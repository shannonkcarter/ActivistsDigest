{
 "cells": [
  {
   "cell_type": "code",
   "execution_count": 1,
   "metadata": {},
   "outputs": [],
   "source": [
    "from nltk.tokenize import word_tokenize\n",
    "from nltk.corpus import stopwords\n",
    "import nltk.data\n",
    "import pandas as pd\n",
    "from gensim.models import KeyedVectors\n",
    "from gensim.models import Word2Vec\n",
    "import numpy as np\n",
    "from sklearn.metrics.pairwise import cosine_similarity"
   ]
  },
  {
   "cell_type": "code",
   "execution_count": 2,
   "metadata": {},
   "outputs": [],
   "source": [
    "filename = '/Users/kathrynkundrod/Shannon/GoogleNews-vectors-negative300.bin'\n",
    "emb_model = KeyedVectors.load_word2vec_format(filename, binary=True)"
   ]
  },
  {
   "cell_type": "code",
   "execution_count": 4,
   "metadata": {},
   "outputs": [],
   "source": [
    "meeting_data = pd.read_pickle(\"pickleddf.pkl\")"
   ]
  },
  {
   "cell_type": "code",
   "execution_count": 17,
   "metadata": {},
   "outputs": [],
   "source": [
    "def activistsdigest():\n",
    "    # accept user input\n",
    "    text = input(\"Write a topic of interest here: \")\n",
    "\n",
    "    # clean and tokenize user input\n",
    "    tokenized_input = nltk.word_tokenize(text)\n",
    "    \n",
    "    # get vectors for input text\n",
    "    vectorized_input = emb_model[tokenized_input]\n",
    "   \n",
    "    cosine_list = []\n",
    "    for vector in meeting_data['vector_average']:\n",
    "        vector.reshape(1, -1)\n",
    "        cosine_sim = cosine_similarity(vector.reshape(1, -1), vectorized_input[0].reshape(1, -1))[0, 0]\n",
    "        #cosine_sim = get_cosine(meeting_data['vector_average'][0], vectorized_input[0])[0, 0]\n",
    "        \n",
    "        cosine_list.append(cosine_sim)\n",
    "    \n",
    "    # add input_veclist to df\n",
    "    meeting_data['cosine_similarity'] = cosine_list\n",
    "\n",
    "    # sort dataframe in ascending order by distance\n",
    "    meeting_data1 = meeting_data.sort_values(by=['cosine_similarity'], ascending = False)\n",
    "    meeting_data2 = meeting_data1.drop('vector_average', 1)\n",
    "    # return df for top 10 rows\n",
    "    #return print(meeting_data1.head(10))\n",
    "    #return(meeting_data2.head(10))\n",
    "    html_table = meeting_data2.head(10).to_html()\n",
    "    return(html_table)"
   ]
  },
  {
   "cell_type": "code",
   "execution_count": 18,
   "metadata": {},
   "outputs": [
    {
     "name": "stdin",
     "output_type": "stream",
     "text": [
      "Write a topic of interest here:  bike infrastructure\n"
     ]
    },
    {
     "data": {
      "text/plain": [
       "'<table border=\"1\" class=\"dataframe\">\\n  <thead>\\n    <tr style=\"text-align: right;\">\\n      <th></th>\\n      <th>date</th>\\n      <th>text</th>\\n      <th>cosine_similarity</th>\\n    </tr>\\n  </thead>\\n  <tbody>\\n    <tr>\\n      <th>9135</th>\\n      <td>2019-05-23</td>\\n      <td>Good after noon Im Jason Redfern Austin trans...</td>\\n      <td>0.573605</td>\\n    </tr>\\n    <tr>\\n      <th>4921</th>\\n      <td>2017-03-23</td>\\n      <td>Council asked to limit it bicycle and pedestr...</td>\\n      <td>0.505817</td>\\n    </tr>\\n    <tr>\\n      <th>4896</th>\\n      <td>2017-03-23</td>\\n      <td>Mr Mayor my understanding is no that this acc...</td>\\n      <td>0.425738</td>\\n    </tr>\\n    <tr>\\n      <th>8714</th>\\n      <td>2019-04-11</td>\\n      <td>Hi my name is Curtis Rogers Im a resident of ...</td>\\n      <td>0.402885</td>\\n    </tr>\\n    <tr>\\n      <th>9145</th>\\n      <td>2019-05-23</td>\\n      <td>I think specifically I think what youre askin...</td>\\n      <td>0.384633</td>\\n    </tr>\\n    <tr>\\n      <th>7258</th>\\n      <td>2018-04-26</td>\\n      <td>Lexinger lane this actually  the property has...</td>\\n      <td>0.383383</td>\\n    </tr>\\n    <tr>\\n      <th>7359</th>\\n      <td>2018-04-26</td>\\n      <td>This only authorizes them to be on city right...</td>\\n      <td>0.381285</td>\\n    </tr>\\n    <tr>\\n      <th>8902</th>\\n      <td>2019-04-25</td>\\n      <td>My name is Ricardo Trevino live in precinct 3...</td>\\n      <td>0.380835</td>\\n    </tr>\\n    <tr>\\n      <th>7178</th>\\n      <td>2018-04-26</td>\\n      <td>Ora Houston district 1 city council member bu...</td>\\n      <td>0.370360</td>\\n    </tr>\\n    <tr>\\n      <th>8555</th>\\n      <td>2019-03-28</td>\\n      <td>Yes councilmember For instance the sidewalk p...</td>\\n      <td>0.362227</td>\\n    </tr>\\n  </tbody>\\n</table>'"
      ]
     },
     "execution_count": 18,
     "metadata": {},
     "output_type": "execute_result"
    }
   ],
   "source": [
    "activistsdigest()"
   ]
  },
  {
   "cell_type": "code",
   "execution_count": null,
   "metadata": {},
   "outputs": [],
   "source": []
  }
 ],
 "metadata": {
  "kernelspec": {
   "display_name": "Python 3",
   "language": "python",
   "name": "python3"
  },
  "language_info": {
   "codemirror_mode": {
    "name": "ipython",
    "version": 3
   },
   "file_extension": ".py",
   "mimetype": "text/x-python",
   "name": "python",
   "nbconvert_exporter": "python",
   "pygments_lexer": "ipython3",
   "version": "3.7.0"
  }
 },
 "nbformat": 4,
 "nbformat_minor": 4
}
