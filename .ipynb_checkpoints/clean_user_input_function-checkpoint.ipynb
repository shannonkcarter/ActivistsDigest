{
 "cells": [
  {
   "cell_type": "code",
   "execution_count": 1,
   "metadata": {},
   "outputs": [],
   "source": [
    "from nltk.tokenize import word_tokenize\n",
    "from nltk.corpus import stopwords\n",
    "import nltk.data\n",
    "import pandas as pd\n",
    "from gensim.models import KeyedVectors\n",
    "from gensim.models import Word2Vec\n",
    "import numpy as np\n",
    "from sklearn.metrics.pairwise import cosine_similarity"
   ]
  },
  {
   "cell_type": "code",
   "execution_count": 2,
   "metadata": {},
   "outputs": [],
   "source": [
    "# Can upload the full or slim version of Google News word embeddings. Slim works fine and is much faster\n",
    "#filename = '/Users/kathrynkundrod/Shannon/GoogleNews-vectors-negative300.bin'\n",
    "filename = '/Users/kathrynkundrod/Shannon/GoogleNews-vectors-negative300-SLIM.bin'\n",
    "emb_model = KeyedVectors.load_word2vec_format(filename, binary=True)"
   ]
  },
  {
   "cell_type": "code",
   "execution_count": 41,
   "metadata": {},
   "outputs": [],
   "source": [
    "meeting_data = pd.read_pickle(\"pickleddf.pkl\")"
   ]
  },
  {
   "cell_type": "code",
   "execution_count": 37,
   "metadata": {},
   "outputs": [],
   "source": [
    "#meeting_data['date'] = pd.to_datetime(meeting_data['date'], format = '%Y-%m-%d')"
   ]
  },
  {
   "cell_type": "code",
   "execution_count": 39,
   "metadata": {},
   "outputs": [],
   "source": [
    "#meeting_data[\"Meeting Date\"] = meeting_data['date'].apply(lambda x: x.strftime('%B %d, %Y'))"
   ]
  },
  {
   "cell_type": "code",
   "execution_count": 42,
   "metadata": {},
   "outputs": [],
   "source": [
    "def activistsdigest():\n",
    "    # accept user input\n",
    "    text = input(\"Write a topic of interest here: \")\n",
    "\n",
    "    # clean and tokenize user input\n",
    "    tokenized_input = nltk.word_tokenize(text)\n",
    "    \n",
    "    # get vectors for input text\n",
    "    vectorized_input = emb_model[tokenized_input]\n",
    "   \n",
    "    cosine_list = []\n",
    "    for vector in meeting_data['vector_average']:\n",
    "        vector.reshape(1, -1)\n",
    "        cosine_sim = cosine_similarity(vector.reshape(1, -1), vectorized_input[0].reshape(1, -1))[0, 0]\n",
    "        #cosine_sim = get_cosine(meeting_data['vector_average'][0], vectorized_input[0])[0, 0]\n",
    "        \n",
    "        cosine_list.append(cosine_sim)\n",
    "    \n",
    "    # add input_veclist to df\n",
    "    meeting_data['cosine_similarity'] = cosine_list\n",
    "\n",
    "    # sort dataframe in ascending order by distance\n",
    "    meeting_data1 = meeting_data.sort_values(by=['cosine_similarity'], ascending = False)\n",
    "    meeting_data2 = meeting_data1.drop('vector_average', 1)\n",
    "    meeting_data2 = meeting_data2.drop('cosine_similarity', 1)\n",
    "    meeting_data2['date'] = pd.to_datetime(meeting_data2['date'], format = '%Y-%m-%d')\n",
    "    meeting_data2[\"date\"] = meeting_data2['date'].apply(lambda x: x.strftime('%B %d, %Y'))\n",
    "    meeting_data2 = meeting_data2.rename(columns={\"text\": \"Public Speaker Comment\", \"date\": \"Meeting Date\"})\n",
    "    \n",
    "    # return df for top 10 rows-- app.py returns the html_table, but doesn't look nice in JNB\n",
    "    html_table = meeting_data2.head(15).to_html(index = False)\n",
    "    return(meeting_data2.head(15))"
   ]
  },
  {
   "cell_type": "code",
   "execution_count": 43,
   "metadata": {},
   "outputs": [
    {
     "name": "stdin",
     "output_type": "stream",
     "text": [
      "Write a topic of interest here:  bikes\n"
     ]
    },
    {
     "data": {
      "text/html": [
       "<div>\n",
       "<style scoped>\n",
       "    .dataframe tbody tr th:only-of-type {\n",
       "        vertical-align: middle;\n",
       "    }\n",
       "\n",
       "    .dataframe tbody tr th {\n",
       "        vertical-align: top;\n",
       "    }\n",
       "\n",
       "    .dataframe thead th {\n",
       "        text-align: right;\n",
       "    }\n",
       "</style>\n",
       "<table border=\"1\" class=\"dataframe\">\n",
       "  <thead>\n",
       "    <tr style=\"text-align: right;\">\n",
       "      <th></th>\n",
       "      <th>Meeting Date</th>\n",
       "      <th>Public Speaker Comment</th>\n",
       "    </tr>\n",
       "  </thead>\n",
       "  <tbody>\n",
       "    <tr>\n",
       "      <th>9135</th>\n",
       "      <td>May 23, 2019</td>\n",
       "      <td>Good after noon Im Jason Redfern Austin trans...</td>\n",
       "    </tr>\n",
       "    <tr>\n",
       "      <th>2156</th>\n",
       "      <td>December 17, 2015</td>\n",
       "      <td>Gordon Derr again all of our vehicles for hir...</td>\n",
       "    </tr>\n",
       "    <tr>\n",
       "      <th>9136</th>\n",
       "      <td>May 23, 2019</td>\n",
       "      <td>So under 81  31 under the parks regulation th...</td>\n",
       "    </tr>\n",
       "    <tr>\n",
       "      <th>7611</th>\n",
       "      <td>June 28, 2018</td>\n",
       "      <td>Yes Mayor and council thank you So weve built...</td>\n",
       "    </tr>\n",
       "    <tr>\n",
       "      <th>3232</th>\n",
       "      <td>June 23, 2016</td>\n",
       "      <td>Mayor and council assistant chief good aftern...</td>\n",
       "    </tr>\n",
       "    <tr>\n",
       "      <th>7358</th>\n",
       "      <td>April 26, 2018</td>\n",
       "      <td>There are a small number of streets congress ...</td>\n",
       "    </tr>\n",
       "    <tr>\n",
       "      <th>4921</th>\n",
       "      <td>March 23, 2017</td>\n",
       "      <td>Council asked to limit it bicycle and pedestr...</td>\n",
       "    </tr>\n",
       "    <tr>\n",
       "      <th>7178</th>\n",
       "      <td>April 26, 2018</td>\n",
       "      <td>Ora Houston district 1 city council member bu...</td>\n",
       "    </tr>\n",
       "    <tr>\n",
       "      <th>4896</th>\n",
       "      <td>March 23, 2017</td>\n",
       "      <td>Mr Mayor my understanding is no that this acc...</td>\n",
       "    </tr>\n",
       "    <tr>\n",
       "      <th>8902</th>\n",
       "      <td>April 25, 2019</td>\n",
       "      <td>My name is Ricardo Trevino live in precinct 3...</td>\n",
       "    </tr>\n",
       "    <tr>\n",
       "      <th>7359</th>\n",
       "      <td>April 26, 2018</td>\n",
       "      <td>This only authorizes them to be on city right...</td>\n",
       "    </tr>\n",
       "    <tr>\n",
       "      <th>8555</th>\n",
       "      <td>March 28, 2019</td>\n",
       "      <td>Yes councilmember For instance the sidewalk p...</td>\n",
       "    </tr>\n",
       "    <tr>\n",
       "      <th>8714</th>\n",
       "      <td>April 11, 2019</td>\n",
       "      <td>Hi my name is Curtis Rogers Im a resident of ...</td>\n",
       "    </tr>\n",
       "    <tr>\n",
       "      <th>3132</th>\n",
       "      <td>May 19, 2016</td>\n",
       "      <td>Hello Im John Woodley Im an advocate for disa...</td>\n",
       "    </tr>\n",
       "    <tr>\n",
       "      <th>1106</th>\n",
       "      <td>September 17, 2015</td>\n",
       "      <td>Trucks that will be towing trailers carrying ...</td>\n",
       "    </tr>\n",
       "  </tbody>\n",
       "</table>\n",
       "</div>"
      ],
      "text/plain": [
       "            Meeting Date                             Public Speaker Comment\n",
       "9135        May 23, 2019   Good after noon Im Jason Redfern Austin trans...\n",
       "2156   December 17, 2015   Gordon Derr again all of our vehicles for hir...\n",
       "9136        May 23, 2019   So under 81  31 under the parks regulation th...\n",
       "7611       June 28, 2018   Yes Mayor and council thank you So weve built...\n",
       "3232       June 23, 2016   Mayor and council assistant chief good aftern...\n",
       "7358      April 26, 2018   There are a small number of streets congress ...\n",
       "4921      March 23, 2017   Council asked to limit it bicycle and pedestr...\n",
       "7178      April 26, 2018   Ora Houston district 1 city council member bu...\n",
       "4896      March 23, 2017   Mr Mayor my understanding is no that this acc...\n",
       "8902      April 25, 2019   My name is Ricardo Trevino live in precinct 3...\n",
       "7359      April 26, 2018   This only authorizes them to be on city right...\n",
       "8555      March 28, 2019   Yes councilmember For instance the sidewalk p...\n",
       "8714      April 11, 2019   Hi my name is Curtis Rogers Im a resident of ...\n",
       "3132        May 19, 2016   Hello Im John Woodley Im an advocate for disa...\n",
       "1106  September 17, 2015   Trucks that will be towing trailers carrying ..."
      ]
     },
     "execution_count": 43,
     "metadata": {},
     "output_type": "execute_result"
    }
   ],
   "source": [
    "activistsdigest()"
   ]
  },
  {
   "cell_type": "code",
   "execution_count": null,
   "metadata": {},
   "outputs": [],
   "source": []
  }
 ],
 "metadata": {
  "kernelspec": {
   "display_name": "Python 3",
   "language": "python",
   "name": "python3"
  },
  "language_info": {
   "codemirror_mode": {
    "name": "ipython",
    "version": 3
   },
   "file_extension": ".py",
   "mimetype": "text/x-python",
   "name": "python",
   "nbconvert_exporter": "python",
   "pygments_lexer": "ipython3",
   "version": "3.7.0"
  }
 },
 "nbformat": 4,
 "nbformat_minor": 4
}
