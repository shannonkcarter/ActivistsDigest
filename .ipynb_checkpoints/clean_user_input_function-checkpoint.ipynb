{
 "cells": [
  {
   "cell_type": "code",
   "execution_count": 10,
   "metadata": {},
   "outputs": [],
   "source": [
    "from nltk.tokenize import word_tokenize\n",
    "from nltk.corpus import stopwords\n",
    "import nltk.data\n",
    "import pandas as pd\n",
    "from gensim.models import KeyedVectors\n",
    "from gensim.models import Word2Vec\n",
    "import numpy as np\n",
    "from sklearn.metrics.pairwise import cosine_similarity"
   ]
  },
  {
   "cell_type": "code",
   "execution_count": 6,
   "metadata": {},
   "outputs": [],
   "source": [
    "#filename = 'GoogleNews-vectors-negative300.bin'\n",
    "#emb_model = KeyedVectors.load_word2vec_format(filename, binary=True)"
   ]
  },
  {
   "cell_type": "code",
   "execution_count": 7,
   "metadata": {},
   "outputs": [],
   "source": [
    "meeting_data = pd.read_pickle(\"pickleddf.pkl\")"
   ]
  },
  {
   "cell_type": "code",
   "execution_count": 8,
   "metadata": {},
   "outputs": [],
   "source": [
    "def activistsdigest():\n",
    "    # accept user input\n",
    "    text = input(\"Write a topic of interest here: \")\n",
    "\n",
    "    # clean and tokenize user input\n",
    "    tokenized_input = nltk.word_tokenize(text)\n",
    "    \n",
    "    # get vectors for input text\n",
    "    vectorized_input = emb_model[tokenized_input]\n",
    "   \n",
    "    cosine_list = []\n",
    "    for vector in meeting_data['vector_average']:\n",
    "        vector.reshape(1, -1)\n",
    "        cosine_sim = cosine_similarity(vector.reshape(1, -1), vectorized_input[0].reshape(1, -1))[0, 0]\n",
    "        #cosine_sim = get_cosine(meeting_data['vector_average'][0], vectorized_input[0])[0, 0]\n",
    "        \n",
    "        cosine_list.append(cosine_sim)\n",
    "    \n",
    "    # add input_veclist to df\n",
    "    meeting_data['cosine_similarity'] = cosine_list\n",
    "\n",
    "    # sort dataframe in ascending order by distance\n",
    "    meeting_data1 = meeting_data.sort_values(by=['cosine_similarity'], ascending = False)\n",
    "\n",
    "    # return df for top 10 rows\n",
    "    return print(meeting_data1.head(10))"
   ]
  },
  {
   "cell_type": "code",
   "execution_count": 12,
   "metadata": {},
   "outputs": [
    {
     "name": "stdin",
     "output_type": "stream",
     "text": [
      "Write a topic of interest here:  aliens\n"
     ]
    },
    {
     "name": "stdout",
     "output_type": "stream",
     "text": [
      "            date                                               text  \\\n",
      "4322  2016-12-15   I m Carlos Leon I live in Austin Texas Decemb...   \n",
      "5674  2017-06-22   So Im Carlos Leon I live in Austin Texas June...   \n",
      "1539  2015-10-15   were talking about other more serious crimes ...   \n",
      "9180  2019-06-06   Soy Carlos Leon here to speak against item 10...   \n",
      "142   2015-04-23   Mayor mayor Adler Carlos Leon Austin Texas on...   \n",
      "1541  2015-10-15   when i say that im not talking about all sexu...   \n",
      "8146  2018-08-30   As a black black man here in Travis county Im...   \n",
      "7891  2018-08-30   Carlos Leon Austin Texas February 15 2018 to ...   \n",
      "4748  2017-03-23   In the nam e of the father and the son and th...   \n",
      "4541  2017-02-16   Good morning Myes Joseph and Im an immigratio...   \n",
      "\n",
      "                                         vector_average  cosine_similarity  \n",
      "4322  [0.048110962, 0.019203167, 0.02269124, 0.08842...           0.313336  \n",
      "5674  [0.04177399, 0.025138753, 0.03596841, 0.086741...           0.312521  \n",
      "1539  [0.034220647, 0.044028834, 0.068998635, 0.0494...           0.295802  \n",
      "9180  [0.037335444, 0.032658715, 0.06909489, 0.10161...           0.279586  \n",
      "142   [0.028590001, 0.033106297, 0.036212873, 0.0899...           0.274838  \n",
      "1541  [0.003725919, 0.054729115, 0.038352273, 0.1065...           0.274732  \n",
      "8146  [0.013801857, 0.052579686, 0.00482538, 0.09450...           0.267502  \n",
      "7891  [0.021371806, 0.024150174, 0.0497063, 0.071205...           0.265989  \n",
      "4748  [0.041119635, 0.061388645, 0.036710616, 0.1087...           0.261185  \n",
      "4541  [-0.005838282, 0.03159318, 0.04330478, 0.09554...           0.258842  \n"
     ]
    }
   ],
   "source": [
    "activistsdigest()"
   ]
  },
  {
   "cell_type": "code",
   "execution_count": null,
   "metadata": {},
   "outputs": [],
   "source": []
  },
  {
   "cell_type": "code",
   "execution_count": null,
   "metadata": {},
   "outputs": [],
   "source": []
  },
  {
   "cell_type": "code",
   "execution_count": null,
   "metadata": {},
   "outputs": [],
   "source": []
  },
  {
   "cell_type": "code",
   "execution_count": null,
   "metadata": {},
   "outputs": [],
   "source": []
  },
  {
   "cell_type": "code",
   "execution_count": null,
   "metadata": {},
   "outputs": [],
   "source": []
  }
 ],
 "metadata": {
  "kernelspec": {
   "display_name": "Python 3",
   "language": "python",
   "name": "python3"
  },
  "language_info": {
   "codemirror_mode": {
    "name": "ipython",
    "version": 3
   },
   "file_extension": ".py",
   "mimetype": "text/x-python",
   "name": "python",
   "nbconvert_exporter": "python",
   "pygments_lexer": "ipython3",
   "version": "3.7.0"
  }
 },
 "nbformat": 4,
 "nbformat_minor": 4
}
