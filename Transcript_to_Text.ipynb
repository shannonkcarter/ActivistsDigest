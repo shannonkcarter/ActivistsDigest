{
 "cells": [
  {
   "cell_type": "markdown",
   "metadata": {},
   "source": [
    "### Import libraries"
   ]
  },
  {
   "cell_type": "code",
   "execution_count": 8,
   "metadata": {},
   "outputs": [],
   "source": [
    "import PyPDF2 \n",
    "import textract\n",
    "from nltk.tokenize import word_tokenize\n",
    "from nltk.corpus import stopwords\n",
    "import nltk.data\n",
    "import nltk\n",
    "import glob\n",
    "#from glob import glob\n",
    "import os\n",
    "import re\n",
    "import string"
   ]
  },
  {
   "cell_type": "code",
   "execution_count": 9,
   "metadata": {},
   "outputs": [
    {
     "name": "stderr",
     "output_type": "stream",
     "text": [
      "[nltk_data] Downloading package stopwords to\n",
      "[nltk_data]     /Users/kathrynkundrod/nltk_data...\n",
      "[nltk_data]   Package stopwords is already up-to-date!\n",
      "[nltk_data] Downloading package punkt to\n",
      "[nltk_data]     /Users/kathrynkundrod/nltk_data...\n",
      "[nltk_data]   Package punkt is already up-to-date!\n"
     ]
    },
    {
     "data": {
      "text/plain": [
       "True"
      ]
     },
     "execution_count": 9,
     "metadata": {},
     "output_type": "execute_result"
    }
   ],
   "source": [
    "nltk.download('stopwords')\n",
    "nltk.download('punkt')"
   ]
  },
  {
   "cell_type": "markdown",
   "metadata": {},
   "source": [
    "## Capture text from pdf files, a singular example\n",
    "https://medium.com/@rqaiserr/how-to-convert-pdfs-into-searchable-key-words-with-python-85aab86c544f"
   ]
  },
  {
   "cell_type": "code",
   "execution_count": 12,
   "metadata": {},
   "outputs": [],
   "source": [
    "\n",
    "filename = \"Austin_Transcripts/scrape2/2015_01_29.pdf\"\n",
    "\n",
    "pdfFileObj = open(filename,'rb')\n",
    "\n",
    "#The pdfReader variable is a readable object that will be parsed\n",
    "pdfReader = PyPDF2.PdfFileReader(pdfFileObj)\n",
    "\n",
    "#discerning the number of pages will allow us to parse through all #the pages\n",
    "num_pages = pdfReader.numPages\n",
    "count = 0\n",
    "text = \"\"\n",
    "\n",
    "#The while loop will read each page\n",
    "while count < num_pages:\n",
    "    pageObj = pdfReader.getPage(count)\n",
    "    count +=1\n",
    "    text += pageObj.extractText()\n",
    "\n",
    "#print(text)"
   ]
  },
  {
   "cell_type": "markdown",
   "metadata": {},
   "source": [
    "## Capture text from pdf files, loop through all files"
   ]
  },
  {
   "cell_type": "code",
   "execution_count": 15,
   "metadata": {},
   "outputs": [],
   "source": [
    "# 'glob' files, i.e., make a list of all with the same desired attribute\n",
    "# in this case, all pdfs in the folder Austin_Transcripts\n",
    "filelist = glob.glob(\"Austin_Transcripts/*.pdf\")\n",
    "#filelist"
   ]
  },
  {
   "cell_type": "code",
   "execution_count": 16,
   "metadata": {},
   "outputs": [],
   "source": [
    "fileroot, fileext = os.path.splitext(pdffile)\n",
    "output_filename = fileroot+'.txt'"
   ]
  },
  {
   "cell_type": "code",
   "execution_count": 17,
   "metadata": {},
   "outputs": [],
   "source": [
    "# for each file in filelist...\n",
    "for pdffile in filelist:\n",
    "    \n",
    "    # Open the pdf file and make it a pdf object\n",
    "    pdfFileObj = open(pdffile,'rb')\n",
    "\n",
    "    # The pdfReader variable is a readable object that will be parsed\n",
    "    pdfReader = PyPDF2.PdfFileReader(pdfFileObj)\n",
    "\n",
    "    # Discerning the number of pages will allow us to parse through all #the pages\n",
    "    num_pages = pdfReader.numPages\n",
    "    count = 0\n",
    "    text = \"\"\n",
    "\n",
    "    # This while loop will read each page\n",
    "    # The 'text' output is what we want to save for each pdf\n",
    "    while count < num_pages:\n",
    "        pageObj = pdfReader.getPage(count)\n",
    "        count +=1\n",
    "        text += pageObj.extractText()\n",
    "\n",
    "    # Create an output file and put \"text\" in there\n",
    "    file = open(output_filename, \"w\")\n",
    "    file.write(text)\n",
    "    fileroot, fileext = os.path.splitext(pdffile)\n",
    "    output_filename = fileroot+'.txt'\n",
    "    file.close()   \n"
   ]
  },
  {
   "cell_type": "code",
   "execution_count": null,
   "metadata": {},
   "outputs": [],
   "source": []
  },
  {
   "cell_type": "markdown",
   "metadata": {},
   "source": [
    "## Cleaning text files, a singular example"
   ]
  },
  {
   "cell_type": "code",
   "execution_count": 49,
   "metadata": {},
   "outputs": [],
   "source": [
    "# name the file before opening so it's easier to iterate on later\n",
    "text_ex =  \"Austin_Transcripts/2017_03_23.txt\"\n",
    "f = open(text_ex, 'r')\n",
    "\n",
    "# turns f file into a string\n",
    "content = f.read()\n",
    "#type(content)   # it's a string\n",
    "#print(content)  # see, it's a string\n",
    "\n",
    "# always close files after pulling out the \"content\" or whatever you want to avoid overwriting\n",
    "f.close()"
   ]
  },
  {
   "cell_type": "code",
   "execution_count": 50,
   "metadata": {},
   "outputs": [],
   "source": [
    "# remove time stamp\n",
    "text_cleaning = re.sub(\"[\\[].*?[\\]]\", \"\", content)\n",
    "\n",
    "# remove the new line instances\n",
    "text_cleaning = text_cleaning.replace(\"\\n\", \" \")\n",
    "\n",
    "# subbing repeated white space for a single space\n",
    "text_cleaning = re.sub('\\s\\s+', ' ', text_cleaning)\n",
    "\n",
    "# remove header\n",
    "text_cleaning = re.sub(r'.*====', '=', text_cleaning)\n",
    "\n",
    "# try this tomorrow. this will get rid of more front matter\n",
    "#text_cleaning = re.sub(r'.*Amen.', '=', text_cleaning)\n",
    "\n",
    "# Remove all punctuation that is not \">\"\n",
    "remove = string.punctuation\n",
    "remove = remove.replace(\">\", \"\") # don't remove hyphens\n",
    "remove = remove.replace(\":\", \"\") # keep these too, which helps me see when CC members are speaking\n",
    "pattern = r\"[{}]\".format(remove) # create the pattern\n",
    "text_cleaning = re.sub(pattern, \"\", text_cleaning) "
   ]
  },
  {
   "cell_type": "code",
   "execution_count": 55,
   "metadata": {},
   "outputs": [
    {
     "data": {
      "text/plain": [
       "' >> Mayor Adler: Good morning before we get started begin with the invocation Everyone please rise >> Mayor members of the council staff and guests let us play Good and gracious god we are grateful for a new day the new gifts it offers the new tas ks with which it presents to us who call Austin Texas home We are grateful too for each one here especially those who sit at this table of governance our mayor and each member of this city council as well as the many who support their will who will eng age and resource them in the course of this day as they take up the subjects of traffic lights and child care office space and legal settlements money management environmental stewardship affordable housing drug enforcement waste treatment and citiz en protection and so much more in each case impacting the lives and livelihoods of so many Across the myriad areas of need and opportunity that find their place on the days agenda may there be a coming together of minds perspectives wills even these g oals in ways that allow for the creative melding of these in the service of the public good On a day on which many will commemorate the example of a teacher come from god who wrapped a towel around his waist and washed the feet of his followers grant to each of us such a spirit of practical and compassionate service and self giving so that by the days end this city we call home will be better for what has happened here Amen >> Mayor Adler: Thank you Now were going to call the meeti ng to order Today is April 13 2017 It is 10:08 Were in the city council chambers here at city hall 3:01 west second street Austin Texas Council we have some changes and corrections The pulled items this morning on the consent agenda are item 9 10 and 19 We had to add 22 being pulled But I can read in those changes African American resources commission Marian Connor by councilmember Flanagan who also nominates the standards commission Michael king and also mechanical plumbing and solar board Bashir Hamad A'"
      ]
     },
     "execution_count": 55,
     "metadata": {},
     "output_type": "execute_result"
    }
   ],
   "source": [
    "text_cleaning[0:2000]"
   ]
  },
  {
   "cell_type": "markdown",
   "metadata": {},
   "source": [
    "## Now, loop through all files to clean-- not ready for this yet\n",
    "##### better to do before or after splitting speakers?"
   ]
  },
  {
   "cell_type": "code",
   "execution_count": 35,
   "metadata": {},
   "outputs": [],
   "source": [
    "# making a list of all txt files, to run through loop later\n",
    "txt_list = glob(\"Austin_Transcripts/*.txt\")\n",
    "#txt_list"
   ]
  },
  {
   "cell_type": "code",
   "execution_count": null,
   "metadata": {},
   "outputs": [],
   "source": [
    "fileroot, fileext = os.path.splitext(pdffile)\n",
    "output_filename = fileroot+'.txt'"
   ]
  },
  {
   "cell_type": "code",
   "execution_count": null,
   "metadata": {},
   "outputs": [],
   "source": [
    "for raw_text in txt_list:\n",
    "    \n",
    "    # remove time stamp\n",
    "    text_cleaning = re.sub(\"[\\[].*?[\\]]\", \"\", content)\n",
    "\n",
    "    # remove the new line instances\n",
    "    text_cleaning = text_cleaning.replace(\"\\n\", \" \")\n",
    "\n",
    "    # subbing repeated white space for a single space\n",
    "    text_cleaning = re.sub('\\s\\s+', ' ', text_cleaning)\n",
    "\n",
    "    # remove header\n",
    "    text_cleaning = re.sub(r'.*====', '=', text_cleaning)\n",
    "\n",
    "    # try this tomorrow. this will get rid of more front matter\n",
    "    #text_cleaning = re.sub(r'.*Amen.', '=', text_cleaning)\n",
    "\n",
    "    # Remove all punctuation that is not \">\"\n",
    "    remove = string.punctuation\n",
    "    remove = remove.replace(\">\", \"\") # don't remove hyphens\n",
    "    remove = remove.replace(\":\", \"\") # keep these too, which helps me see when CC members are speaking\n",
    "    pattern = r\"[{}]\".format(remove) # create the pattern\n",
    "    text_cleaning = re.sub(pattern, \"\", text_cleaning) \n",
    "\n",
    "    # Create an output file and put \"text\" in there\n",
    "    file = open(output_filename, \"w\")\n",
    "    file.write(text)\n",
    "    fileroot, fileext = os.path.splitext(pdffile)\n",
    "    output_filename = fileroot+'_clean.txt'\n",
    "    file.close()   \n"
   ]
  },
  {
   "cell_type": "code",
   "execution_count": 54,
   "metadata": {},
   "outputs": [
    {
     "data": {
      "text/plain": [
       "[' ',\n",
       " ' Mayor Adler: Good morning before we get started begin with the invocation Everyone please rise ',\n",
       " ' Mayor members of the council staff and guests let us play Good and gracious god we are grateful for a new day the new gifts it offers the new tas ks with which it presents to us who call Austin Texas home We are grateful too for each one here especially those who sit at this table of governance our mayor and each member of this city council as well as the many who support their will who will eng age and resource them in the course of this day as they take up the subjects of traffic lights and child care office space and legal settlements money management environmental stewardship affordable housing drug enforcement waste treatment and citiz en protection and so much more in each case impacting the lives and livelihoods of so many Across the myriad areas of need and opportunity that find their place on the days agenda may there be a coming together of minds perspectives wills even these g oals in ways that allow for the creative melding of these in the service of the public good On a day on which many will commemorate the example of a teacher come from god who wrapped a towel around his waist and washed the feet of his followers grant to each of us such a spirit of practical and compassionate service and self giving so that by the days end this city we call home will be better for what has happened here Amen ',\n",
       " ' Mayor Adler: Thank you Now were going to call the meeti ng to order Today is April 13 2017 It is 10:08 Were in the city council chambers here at city hall 3:01 west second street Austin Texas Council we have some changes and corrections The pulled items this morning on the consent agenda are item 9 10 and 19 We had to add 22 being pulled But I can read in those changes African American resources commission Marian Connor by councilmember Flanagan who also nominates the standards commission Michael king and also mechanical plumbing and solar board Bashir Hamad And one more Were approving the waiver residency requirement of section 2121 of the city code for the service of Bashir Mohammed on the mechanical plumbing and solar board There are nominees listed on here for the manager search committ ee Of course those will be relevant if in fact we pass item number 22 which is a board and commission  Im sorry which is item number 27 Why Okay So youre going to pull ahead number 22 Im sorry 27 Do you need item 22 Yes T hats the pull So were going to pull 22 and 27 You cant do them simultaneously Okay Well do it that way Were going to pull 9 10 19 and 22 I dont know if theres anything else to be pulled We do have people to speak on the consent agenda ',\n",
       " ' Mayor ',\n",
       " ' Mayor Adler: Yes ',\n",
       " ' My nominee for the city managers search advisory task force ',\n",
       " ' Mayor Adler: We pulled that We can add that in second ',\n",
       " ' Okay thank you ',\n",
       " ' Mayor Adler: Okay Is jive Keller here Is Jan Daniels here  Okay Mr Pen a do you want to speak on the consent agenda ',\n",
       " ' I do mayor 9 15 16 17 and 18 9 has been pulled ',\n",
       " ' Mayor is 14 pulled ',\n",
       " ' Mayor Adler: 14 is not pulled ',\n",
       " ' Can I start with that You mentioned 10 or is that exempt from  item number 10 ',\n",
       " ' Mayor Adler: 9 and 10 have been pulled I had you signed up for 15 16 17 and 18 ',\n",
       " ' Okay and 14 14 is the relocation assistance and authorizing the payment of relocation funds located at 1127 at 52nd street I know we have an exce ption department I know theres been complaints I know well inspect the units for deficiencies and problematic issues I was wondering why this did not occur quicker I had a phone call last year about this property Unfortunately I was in the hospital again so I was not able to address it with you But in the future thats more pertinent and more efficient in listening to the complaints of the resident I understand that the owner has been cited or will be cited But thats not enough Number 15 is th e Austin community college increased funding for child care equality Any increase for child care equality is a no brainer Child  children  child needs health care and theyre not getting it A lot of people in east Austin A lot of children are not g etting top care at the childrens hospital Ive seen it They say call the mayor Thats your job You said number 16 Number 16 is just a increasing for the community network and Raul is the the executive director of the organization Called the communit y action network Thats money well spent for the community And again mayor Number 16 ',\n",
       " ' Mayor Adler: 17 and 18 ',\n",
       " ' 17 Okay yes 17 appropriating 170000 grant funds for the Austin shelter Always supportive of women and especially children who ar e at risk These children are at risk mayor council They need this funding for actually appropriate needs immediate needs So this is an appropriate  appropriate funding for the Austin children for women and children Ill always support them You sa id number 18 right Number 18 has to do with increased mentoring is a no brainer Former teacher at ACC Austin independent school district And I taught also juniors in college But mentoring is very important to get the kids back on tra ck on education and the last item mayor And allow me to  Usa today good article about homeless veterans in Austin Texas Coming to Austin because he said he knows for a fact that there are more than 5000 homeless veterans in Austin Texas FYI I like to work with you and your office on that if it would be okay ',\n",
       " ' Mayor Adler: That would be great Thank you ',\n",
       " ' Thank you sir ',\n",
       " ' Mayor Adler: Thank you David king to speak on items 14 and 27 Andy young is on deck ',\n",
       " ' Thank you mayor Council members Mayor did  were items 24 and 25 pulled ',\n",
       " ' Mayor Adler: 14 should have also been pulled for speakers We missed that So  so 27 ',\n",
       " ' Mayor where  is 24 and 25 also pulled ',\n",
       " ' Mayor Adler: 24 and 25 have been pulled for speakers ',\n",
       " ' Than k you thank you So Ill speak to this item number 27 then ',\n",
       " ' Mayor Adler: Okay ',\n",
       " ' Mayor thank you And also did you say 14 was pulled ',\n",
       " ' Mayor Adler: 14 was pulled ',\n",
       " ' Okay So that item would be called up again later on ',\n",
       " ' Mayor Adler: Yes ',\n",
       " ' Thank you may you mayor pro tem and councilmembers Im David king Speaking on item 27 regarding the city manager search advisory task force I think its important task force Glad youre taking an initiative to make sure the community is involved i n the process I think youre suggesting that I believe this will happen The task force the membership reflecting the diversity of our community and I hope you will allow the task force to comply with the Texas open meetings laws and not allow lobbyists to be appointed to this important task force Thank you very much for listening to my comments ',\n",
       " ' Mr Mayor excuse me did you say 24 and 25 have been pulled ',\n",
       " ' Mayor Adler: Right We have several things that are being pulled on the agenda that all the speakers are spending in favor of So and that includes items 24 25 and 26 So the items Andy young is an item thats pulled 26yes Ms Kitchen ',\n",
       " ' Kitchen: If  is there an necessity to pull them if we  if the folks are all signed up for it and they pulled th eir name off ',\n",
       " ' They very quickly will do this Theyll take the consent agenda Well ask people if they did the full three minutes Andy young will get called when we have item 26 The items pulled now are 9 10 14 19 22 24 25 and 26 Is there a motion to approve the consent agenda Ms Houston makes that motion Is there a second Mr Casar any discussion ',\n",
       " ' Casar: I would like to pull 2 ',\n",
       " ' Mayor Adler: Item pull will be pulled ',\n",
       " ' Casar: I wanted to confirm I posed on the message board tha t item number 26 had a couple of suggested amendments If I understand those are incorporated in the motion ',\n",
       " ' Mayor Adler: It will be but that item is pulled as well We have to talk about it ',\n",
       " ' Casar: Okay sounds good ',\n",
       " ' Mayor Adl er: So 2 9 10 14 19 22 24 25 and 26 Those in favor of the consent agenda please raise your hand Those opposed ',\n",
       " ' Mr Mayor ',\n",
       " ' Mayor Adler: Yes ',\n",
       " ' I would like to be recorded by ',\n",
       " ' Mayor Adler: So noted Thank you ',\n",
       " ' I would like 16 1 8 23 and 8 ',\n",
       " ' Mayor Adler: Okay Anything else With that said those in favor of the consent agenda please raise your hand Those opposed Unanimous with everybody with councilmember Poole not voting That takes care of the consent agenda Lets now go to the items that have been pulled Lets go through them number 2 Mr Casar Did you have something quick on that ',\n",
       " ' Casar: I would move to pass number 2 amended by my motion sheet which is the same as what I passed out last week Pass out by some councilmembers and some wanted more time to review this Believe that you have And the amended section essentially creates a determination for the hearings officer and they find someone unable to pay and that person is below 60 we do not impose that mini mum mandatory of 250 ',\n",
       " ' Mayor Adler: Any objection to that being added to item number 2 Hearing none its added Mr Casar moves the passage of item 2 as amended Mayor pro tem seconds Discussion Those in favor raise your hand Those opposed Unanimous on the dias with councilmember Poole gone What about number 9 Was there a briefing from staff on this ',\n",
       " ' Thank you members Matthew assistant attorney I wan t to approve a settlement amount of 250000 in the city of Austin lawsuit As discussed in executive session on April 4 this lawsuit is related to an automobile versus pedestrian incident that occurred on January 26 2016 As a result of the accident sh e suffered significant injuries In exchange for the settlement the city will obtain a full and final agreement that releases the city and city employees from claims that were or could have been asserted in the lawsuit The law department recommends that you approve this payment of the settlement amount pursuant to these terms Any questions ',\n",
       " ' Is there a motion to approve item 9 Councilmember Garza is our second in this Councilmember Renteria Any discussion Those in favor of the proposed settlement please raise your hand Those opposed Unanimous on the dias with Ms Poole off Thank you very much ',\n",
       " ' Thank you Item 10 the strategic housing plan As we said in work session were going to keep this open until 2:00 when well call up so other peop le can arrive But we said well get people  give people who arrived this morning the ability to talk if they wanted to do that Im going to come back to just public talking Im going to come back to that in a second We have pulled item 14 Is that a pool for speakers I think it was Mr Pena you have signed up on this but you didnt have a full three minutes to speak on this issue So if you want to speak further on item number 14 I would give you that opportunity if there was some thing else you wanted to say ',\n",
       " ' Mayor Adler: Yes sir Mr King do you want to speak on item 14 ',\n",
       " ' Mayor pro tem councilmembers I think its important that were doing this Im hopeful that this property you know doesnt end up being demolished and replaced with market rate housing What we have done and we have to do this we have to help these families But Im concerned that were going to end up facilitating the demolition of affordable housing Is there any way we ca n hold the property accountable for repairing this property and allowing the families to come back in Low income families other families to come back in and remain in the neighborhood Im just very concerned about this And I think this is really import ant that we use this as an opportunity to look down the road and see in other parts of our city where is this about to happen again Which of our other properties are like this where the property owners are not taking care of them Theyre becoming dilapid ated becoming unsafe Thats an excuse for go get some tenant relocation money and then clear out and were going to clear out for market rate housing They have a term for this in cities like Austin where this is occurring Its called r ecolonization Existing residents are pushed out and being recolonized by affluent high income families Im not criticizing those families I know thats part of the  part of the system part of the process that were trying to deal with I understand t hat But we have to find different ways to see this Otherwise diversity of color low income families from our central neighborhoods Then our only tool seems to be lets provide density bonus housing and we have families pushed out of single family hous ing that they could afford and their only alternative is to come back and live in an apartment a small apartment And they do well that way So Im concerned about this I appreciate this item I know we had to do this But we need to see where else is th is about to happen And figure out a way that we can hold those property owners accountable now to bring the properties into compliance and safe for the tenants Thank you very much ',\n",
       " ' Mayor ',\n",
       " ' Mayor Adler: Someone want to move passage of 14 Mr Kas t sar ',\n",
       " ' Casar: I have some questions from legal ',\n",
       " ' Mayor Adler: Okay Is legal here to answer a question on this Can we had the 600000 thats my question ',\n",
       " ' Assistant city attorney The state law that requires us to fund the reloc ation does not authorize us to reimburse  seek reimbursement under that statute ',\n",
       " ' Casar: May you I would like to when they do settle that lien 800000 some of that money goes back to the housing trust fund Do we execute on that lean at this point  What happens ',\n",
       " ' Its subject to two orders that have generated civil penalties and the city is authorized under state law to do a collection action to recover those funds ',\n",
       " ' Mayor Adler: What happens to those funds if you collect them ',\n",
       " ' Im not su re how we  when we traditionally take  to recover civil penalties if it would follow that process If the council wanted to direct those moneys we could address that at that time ',\n",
       " ' Mayor Adler: Could Mr Renteria make that motion ',\n",
       " ' Not under th is particular action But its something we can look into to see if that money can go to the housing trust fund Well get back to you on that question ',\n",
       " ' Mayor Adler: Okay mayor pro tem ',\n",
       " ' Tovo: I wanted to offer my support for councilmember Renterias suggestion I absolutely support spending the money today to relocate the tenants out of harms way and using the affordable housing trust fund is a way do that quickly Thats also money t hat we set aside to build new housing or preserve existing affordable housing so when those funds when we collect on those fines I want to see that fund replenished I agree with the comments that Mr King made today and also that we hav e via e mail about holding the property owners accountable and I want to thank our staff for doing so for continuing to enforce our city code against property owners who are not maintaining healthy and sanitary conditions Its absolutely the right thing to do to relocate those tenants at this point ',\n",
       " ' Mayor Adler: Mr Casar has moved passage of this item to a second Is there a second Mr Renteria seconds this Further discussion Mr Casar ',\n",
       " ' Casar: I would like to echo the comments my colleagues ha ve made Clearly we need to invest in partnership with land lordz whose properties are getting older and see if we can rehabilitate them and keep affordable housing in the long term I knocked on every one of these 15 doors I remember my campaign told me not to because there were hardly any registered voters there But I registered teenager 18 year olds at this very building And its one of our most economically integrated places in the city and 52nd street is a big part of that I hope we hold the prope rty owners accountable and bring the funds not just from legal judgments but also from our own budgets and bonds to copt to keep this area integrated Its actually in one of our homestead preservation districts and as Mr King asks the question of where are we seeing this happening Its happening in this part of the city and we actually authorized some funding for rehabilitation at the timbers apartment just up the road off of Clayton lane So this is an area that is seeing that little deterioration On e of my first questions is whether or not we could do rehab there But our  you know Im not a structural engineer or a professional and the fire marshal is unfortunately and its deteriorated to the point where its dangerous and potentially deadly for the folks to live there I know some of my constituents in my area would like to stay But its our responsibility to make sure that people live in safe housing I appreciate the law departments significant amount of work on this issue How housing works and the co departments work I have been since I was really trying to focus as much of our code departments efforts on these sorts of dangerous situations because its unacceptable for us to have folks potentially get hurt in those dan gerous situations and its important for the code department and law departments to really hold folks accountable when they let the properties get to the level where folks are living in bad conditions And I think unfortunately this is not the last case li ke this well see across our city and in particular in my district So I appreciate this dias continued help in that regard Right across the street an apartment complex just within the last couple of years flipped it provides perspective to the work tha t we do And I appreciate the council and citys action to make sure that the cities arent homeless or living in dangerous conditions ',\n",
       " ' Discussion Yes  ',\n",
       " ' The state law doesnt require that we recover the expenses Does the state law  it allows u s to this But doesnt provide  can you explain it a little more ',\n",
       " ' Texas property code requires the city to provide relocation advisory services and financial assistance for relocation when activities cause displacement koez enforcement activities ca use displacement ',\n",
       " ' So its a state law thats requiring us to do this at this point ',\n",
       " ' Correct Does it specify the amount I had someone calling the office asking about the appropriateness of the amount not necessarily questioning th e need for relocation But I wanted to give you an opportunity to talk about that briefly ',\n",
       " ' State law does not set a minimum It sets a maximum of the federal benefits so we would not be able to exceed federal benefits but we do not have a minimum ',\n",
       " ' Is the 600000 is it  is it 40000 per unit or am I  Im sorry I dont have it in front of me Do you know ',\n",
       " ' We need real estate services to come ',\n",
       " ' The office of real estate Yes it was attached to it as backup The total amount was 40000 Estimated Perez den shl tenant ',\n",
       " ' Troxclair: Is that the  is that the maximum I guess allowed under  the federal benefits  does that equal to the amount of the federal benefit ']"
      ]
     },
     "execution_count": 54,
     "metadata": {},
     "output_type": "execute_result"
    }
   ],
   "source": [
    "# split by speakers\n",
    "speaker_strings = text_cleaning.split(\">>\")\n",
    "speaker_strings[0:80]"
   ]
  },
  {
   "cell_type": "code",
   "execution_count": null,
   "metadata": {},
   "outputs": [],
   "source": []
  },
  {
   "cell_type": "code",
   "execution_count": null,
   "metadata": {},
   "outputs": [],
   "source": []
  },
  {
   "cell_type": "code",
   "execution_count": null,
   "metadata": {},
   "outputs": [],
   "source": []
  },
  {
   "cell_type": "code",
   "execution_count": null,
   "metadata": {},
   "outputs": [],
   "source": []
  },
  {
   "cell_type": "markdown",
   "metadata": {},
   "source": [
    "## Parsing text files by individual, loop through all files"
   ]
  },
  {
   "cell_type": "markdown",
   "metadata": {},
   "source": [
    "## Basic keyword maker"
   ]
  },
  {
   "cell_type": "code",
   "execution_count": 6,
   "metadata": {},
   "outputs": [],
   "source": [
    "#The word_tokenize() function will break our text phrases into individual words\n",
    "text_ex = \n",
    "tokens = word_tokenize(text_ex)\n",
    "\n",
    "#we'll create a new list which contains punctuation we wish to clean\n",
    "punctuations = ['(',')',';',':','[',']',',']\n",
    "\n",
    "#We initialize the stopwords variable which is a list of words like #\"The\", \"I\", \"and\", etc. that don't hold much value as keywords\n",
    "stop_words = stopwords.words('english')\n",
    "\n",
    "#We create a list comprehension which only returns a list of words #that are NOT IN stop_words and NOT IN punctuations.\n",
    "#keywords = [word for word in tokens if not word in stop_words and not word in punctuations]\n",
    "keywords = [word for word in tokens if not word in stop_words and not word in punctuations]"
   ]
  },
  {
   "cell_type": "code",
   "execution_count": 18,
   "metadata": {},
   "outputs": [],
   "source": [
    "#print(keywords)"
   ]
  }
 ],
 "metadata": {
  "kernelspec": {
   "display_name": "Python 3",
   "language": "python",
   "name": "python3"
  },
  "language_info": {
   "codemirror_mode": {
    "name": "ipython",
    "version": 3
   },
   "file_extension": ".py",
   "mimetype": "text/x-python",
   "name": "python",
   "nbconvert_exporter": "python",
   "pygments_lexer": "ipython3",
   "version": "3.7.0"
  }
 },
 "nbformat": 4,
 "nbformat_minor": 4
}
