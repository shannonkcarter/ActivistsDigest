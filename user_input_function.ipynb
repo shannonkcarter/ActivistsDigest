{
 "cells": [
  {
   "cell_type": "code",
   "execution_count": 1,
   "metadata": {},
   "outputs": [],
   "source": [
    "from nltk.tokenize import word_tokenize\n",
    "from nltk.corpus import stopwords\n",
    "import nltk.data\n",
    "import nltk\n",
    "import glob\n",
    "import os\n",
    "import re\n",
    "import string\n",
    "import pandas as pd\n",
    "import gensim\n",
    "from gensim.models import KeyedVectors\n",
    "from gensim.models import Word2Vec\n",
    "import numpy as np\n",
    "from sklearn import preprocessing\n",
    "from numpy import dot\n",
    "from numpy.linalg import norm\n",
    "from pyemd import emd\n",
    "from sklearn.metrics.pairwise import cosine_similarity"
   ]
  },
  {
   "cell_type": "code",
   "execution_count": 2,
   "metadata": {},
   "outputs": [],
   "source": [
    "meeting_data = pd.read_csv(\"normalized_vectorized_speakers.csv\")"
   ]
  },
  {
   "cell_type": "code",
   "execution_count": 3,
   "metadata": {},
   "outputs": [
    {
     "data": {
      "text/html": [
       "<div>\n",
       "<style scoped>\n",
       "    .dataframe tbody tr th:only-of-type {\n",
       "        vertical-align: middle;\n",
       "    }\n",
       "\n",
       "    .dataframe tbody tr th {\n",
       "        vertical-align: top;\n",
       "    }\n",
       "\n",
       "    .dataframe thead th {\n",
       "        text-align: right;\n",
       "    }\n",
       "</style>\n",
       "<table border=\"1\" class=\"dataframe\">\n",
       "  <thead>\n",
       "    <tr style=\"text-align: right;\">\n",
       "      <th></th>\n",
       "      <th>Unnamed: 0</th>\n",
       "      <th>date</th>\n",
       "      <th>text</th>\n",
       "      <th>vector_average</th>\n",
       "    </tr>\n",
       "  </thead>\n",
       "  <tbody>\n",
       "    <tr>\n",
       "      <th>0</th>\n",
       "      <td>0</td>\n",
       "      <td>2015-03-26</td>\n",
       "      <td>Mayor pro tem I had a que stion for Mr Mckinn...</td>\n",
       "      <td>[ 3.37069705e-02  2.15817261e-02  2.42023841e-...</td>\n",
       "    </tr>\n",
       "    <tr>\n",
       "      <th>1</th>\n",
       "      <td>1</td>\n",
       "      <td>2015-03-26</td>\n",
       "      <td>There are 20 that are signed up for the next ...</td>\n",
       "      <td>[ 2.43322905e-02  3.41903195e-02  1.02022859e-...</td>\n",
       "    </tr>\n",
       "    <tr>\n",
       "      <th>2</th>\n",
       "      <td>2</td>\n",
       "      <td>2015-03-26</td>\n",
       "      <td>Okay The other thing is Im going to do everyt...</td>\n",
       "      <td>[ 0.04183541  0.02101764  0.02123664  0.132321...</td>\n",
       "    </tr>\n",
       "    <tr>\n",
       "      <th>3</th>\n",
       "      <td>3</td>\n",
       "      <td>2015-03-26</td>\n",
       "      <td>Thanks Hello My name is Jacquie benastante an...</td>\n",
       "      <td>[ 1.24549270e-02  2.83855535e-02  2.74225771e-...</td>\n",
       "    </tr>\n",
       "    <tr>\n",
       "      <th>4</th>\n",
       "      <td>4</td>\n",
       "      <td>2015-03-26</td>\n",
       "      <td>Good afternoon Three of us are here today and...</td>\n",
       "      <td>[-1.89271532e-02  2.72102132e-02  4.65353541e-...</td>\n",
       "    </tr>\n",
       "  </tbody>\n",
       "</table>\n",
       "</div>"
      ],
      "text/plain": [
       "   Unnamed: 0        date                                               text  \\\n",
       "0           0  2015-03-26   Mayor pro tem I had a que stion for Mr Mckinn...   \n",
       "1           1  2015-03-26   There are 20 that are signed up for the next ...   \n",
       "2           2  2015-03-26   Okay The other thing is Im going to do everyt...   \n",
       "3           3  2015-03-26   Thanks Hello My name is Jacquie benastante an...   \n",
       "4           4  2015-03-26   Good afternoon Three of us are here today and...   \n",
       "\n",
       "                                      vector_average  \n",
       "0  [ 3.37069705e-02  2.15817261e-02  2.42023841e-...  \n",
       "1  [ 2.43322905e-02  3.41903195e-02  1.02022859e-...  \n",
       "2  [ 0.04183541  0.02101764  0.02123664  0.132321...  \n",
       "3  [ 1.24549270e-02  2.83855535e-02  2.74225771e-...  \n",
       "4  [-1.89271532e-02  2.72102132e-02  4.65353541e-...  "
      ]
     },
     "execution_count": 3,
     "metadata": {},
     "output_type": "execute_result"
    }
   ],
   "source": [
    "meeting_data.head()"
   ]
  },
  {
   "cell_type": "code",
   "execution_count": 11,
   "metadata": {},
   "outputs": [],
   "source": [
    "def activistsdigest():\n",
    "    # accept user input\n",
    "    text = input(\"Write a topic of interest here: \")\n",
    "\n",
    "    # clean and tokenize user input\n",
    "    tokenized_input = nltk.word_tokenize(text)\n",
    "    \n",
    "    # get vectors for input text\n",
    "    filename = 'GoogleNews-vectors-negative300.bin'\n",
    "    emb_model = KeyedVectors.load_word2vec_format(filename, binary=True)\n",
    "    vectorized_input = emb_model[tokenized_input]\n",
    "\n",
    "    # calculate WMD distance\n",
    "    input_veclist = []\n",
    "    for i in meeting_data['vector_average']:\n",
    "        distance = emb_model.wmdistance(i, vectorized_input)\n",
    "        input_veclist.append(distance)\n",
    "\n",
    "    # add input_veclist to df\n",
    "    meeting_data['inputvectors'] = input_veclist\n",
    "\n",
    "    # sort dataframe in ascending order by distance\n",
    "    meeting_data.sort_values(by=['distance'])\n",
    "\n",
    "    # return url for top 3 rows\n",
    "    return print(meeting_data['text'].head(3))"
   ]
  },
  {
   "cell_type": "code",
   "execution_count": 13,
   "metadata": {},
   "outputs": [],
   "source": [
    "#activistsdigest()"
   ]
  },
  {
   "cell_type": "code",
   "execution_count": 15,
   "metadata": {},
   "outputs": [
    {
     "data": {
      "text/plain": [
       "['bike']"
      ]
     },
     "execution_count": 15,
     "metadata": {},
     "output_type": "execute_result"
    }
   ],
   "source": [
    "# accept user input\n",
    "text = \"bike\"\n",
    "\n",
    "# clean and tokenize user input\n",
    "tokenized_input = nltk.word_tokenize(text)\n",
    "\n",
    "tokenized_input"
   ]
  },
  {
   "cell_type": "code",
   "execution_count": 16,
   "metadata": {},
   "outputs": [],
   "source": [
    "# get vectors for input text\n",
    "filename = 'GoogleNews-vectors-negative300.bin'\n",
    "emb_model = KeyedVectors.load_word2vec_format(filename, binary=True)\n",
    "vectorized_input = emb_model[tokenized_input]\n",
    "\n"
   ]
  },
  {
   "cell_type": "code",
   "execution_count": 40,
   "metadata": {},
   "outputs": [
    {
     "data": {
      "text/plain": [
       "str"
      ]
     },
     "execution_count": 40,
     "metadata": {},
     "output_type": "execute_result"
    }
   ],
   "source": [
    "#vectorized_input #this is an array\n",
    "type(meeting_data['vector_average'][0]) # while this is a string. need to make this an array"
   ]
  },
  {
   "cell_type": "code",
   "execution_count": 34,
   "metadata": {},
   "outputs": [
    {
     "ename": "ValueError",
     "evalue": "could not convert string to float: '[ 3.37069705e-02  2.15817261e-02  2.42023841e-02  9.20957550e-02\\n -5.80082610e-02 -1.94845572e-02  3.32705677e-02 -4.21607979e-02\\n  5.73429689e-02  6.04714192e-02 -1.78775787e-02 -1.24741212e-01\\n -3.40426639e-02  2.37434395e-02 -1.10786133e-01  8.29972848e-02\\n  7.87719712e-02  1.08535461e-01 -5.58151258e-03 -4.74801622e-02\\n -2.40875427e-02  6.16455078e-02  8.53834525e-02 -3.90934758e-02\\n  3.94144617e-02 -9.08813439e-03 -1.03804320e-01  1.97908022e-02\\n  2.52925102e-02 -2.39749141e-02 -5.27938828e-03  1.21661378e-02\\n -3.92318740e-02 -2.33532712e-02  4.50112931e-02  6.99081400e-04\\n  5.29711917e-02  3.58108524e-03  4.22531143e-02  6.86277002e-02\\n  7.47647062e-02 -4.59551997e-02  7.62739554e-02 -2.83418279e-02\\n -3.76726165e-02 -1.39042661e-02 -5.33309951e-02 -2.45935339e-02\\n  2.20593270e-02  3.21833603e-02 -1.09017948e-02  4.72280122e-02\\n  1.94335938e-03  7.75985711e-04 -6.82067871e-03  2.30400078e-02\\n -8.06091353e-03 -4.58009914e-02  4.53411862e-02 -7.64938369e-02\\n  3.66233825e-03  7.95141608e-02 -5.78410327e-02 -4.51795682e-02\\n -9.60920379e-03 -2.77069099e-02 -4.96142581e-02  7.33128339e-02\\n -6.64802194e-02  6.63728714e-02  7.54641742e-02  1.98361967e-02\\n  5.39811701e-02  2.65362170e-02 -1.68089747e-01 -6.46121204e-02\\n  1.12831570e-01  8.06871057e-02  6.07114024e-02  1.03178866e-01\\n  2.02355962e-02 -5.11407852e-02  3.99460606e-02  1.55487063e-03\\n -9.54040512e-02 -6.18141182e-02 -8.69280994e-02  1.38599098e-01\\n  1.07116695e-03  1.65252684e-04  4.92541492e-02  3.86128239e-02\\n -2.96177678e-02 -7.17948154e-02 -4.05395515e-02 -5.10308072e-02\\n  6.60745203e-02  6.45058453e-02  2.41195690e-03 -2.29323395e-02\\n -7.18407258e-02 -5.70591353e-02  1.10160066e-02  6.42364472e-02\\n -3.56256105e-02 -2.23063659e-02 -3.82394977e-02 -6.55912757e-02\\n  3.18447500e-02 -6.01124577e-02 -8.36993381e-02 -1.05018616e-02\\n -6.51504518e-03  1.70951840e-02  4.95703109e-02 -4.03705612e-03\\n  4.78144065e-02 -5.10598384e-02  6.27085492e-02  2.13968661e-02\\n -1.04977943e-01  2.21078489e-02 -7.99904987e-02  5.69903553e-02\\n -2.49447636e-02 -1.52265839e-02 -3.68508920e-02 -5.00827022e-02\\n  1.46485139e-02 -2.42477423e-03 -7.16734305e-02 -1.20196991e-01\\n -1.00937195e-01 -6.23677075e-02 -3.76212411e-02 -7.67281875e-02\\n  1.22073367e-02 -6.47860172e-04  2.78701019e-02  1.01766817e-01\\n  7.55317695e-03 -2.07972713e-02  3.41498479e-02 -2.63574980e-02\\n  4.50820178e-02  3.85209657e-02 -7.65995756e-02 -1.22982807e-01\\n -6.28643036e-02 -3.17001343e-02  8.28372985e-02  3.18292230e-02\\n -1.18705139e-01  2.32205205e-02 -2.49435427e-03  1.91564932e-02\\n -1.14672855e-02 -5.96468449e-02 -4.91569526e-02  1.97842401e-02\\n  1.07336426e-02  5.04998788e-02  2.12170407e-02  7.79617280e-02\\n  4.00946625e-02 -1.00633010e-01  1.69647597e-02 -1.47512006e-02\\n  7.15890527e-02 -2.15267949e-02 -1.04187854e-01  1.23934178e-02\\n -1.52798463e-02 -1.09547585e-01 -2.38226317e-02 -1.44271849e-04\\n  9.69998166e-02 -4.34491746e-02 -2.93698888e-02  9.12982970e-03\\n -7.62544274e-02 -3.16172801e-02  3.95167544e-02  2.79811472e-02\\n -3.42330942e-03 -3.10395807e-02 -3.98985296e-02  3.72629538e-02\\n  5.19635007e-02  3.89035791e-02  2.14554593e-02  5.48112094e-02\\n  1.42144775e-02  2.92779543e-02 -1.49336243e-02  1.72692873e-02\\n -3.68203744e-02 -5.44840991e-02 -5.42141907e-02 -1.19331971e-01\\n -9.37370304e-03  3.42831425e-02 -4.22287285e-02 -2.33284757e-02\\n  8.90556350e-03 -1.09649654e-02 -9.30080786e-02 -1.51337432e-02\\n  7.04264864e-02 -2.78366078e-03 -1.85176842e-02  1.91349797e-02\\n -3.94069664e-02  3.17352302e-02 -8.26156586e-02  5.05401613e-03\\n  1.01374209e-01 -3.40812691e-02 -9.24984366e-02 -1.44363400e-02\\n -2.49816515e-02  2.22280119e-02 -1.33746723e-02 -2.28320304e-02\\n  9.26834121e-02 -8.42150897e-02  8.23556483e-02  6.15945421e-02\\n -3.86047359e-05 -1.76821891e-02  2.07509622e-02 -4.15874086e-02\\n  3.65997329e-02  9.27289017e-03  4.60721217e-02 -1.94000062e-02\\n  3.35198976e-02 -4.14474495e-02  5.05201705e-02 -2.19143685e-02\\n  3.30926888e-02  1.95991527e-03  8.16513039e-03 -6.02608882e-02\\n  2.24060053e-03  5.17552942e-02  3.08013912e-02  4.77518290e-02\\n  1.41162872e-02 -3.89378369e-02  2.38214117e-02  3.54496762e-02\\n  3.19869630e-02  5.36267385e-02  4.24627699e-02 -2.17154697e-02\\n  4.63424698e-02  1.34851076e-02 -8.58020037e-02 -6.93136603e-02\\n -5.70169054e-02 -3.62133794e-02 -6.11230470e-02  4.30664048e-02\\n  2.75884252e-02  1.25529781e-01 -1.32585140e-02  1.98448952e-02\\n -7.76187107e-02  3.25337201e-02  3.57018262e-02  1.06022947e-01\\n  1.07973024e-01  1.12022094e-01  2.40010079e-02 -5.89581281e-02\\n -1.55294035e-02 -1.22764893e-01 -1.51930237e-02 -4.57460023e-02\\n  2.73107905e-02 -1.65673066e-02  3.06997672e-02  8.83074924e-02\\n  2.56383140e-02  5.12277614e-03 -6.00900277e-02 -3.64182293e-02\\n  3.87750231e-02  7.57666752e-02 -1.01937182e-01  4.44903560e-02\\n -1.18380353e-01  2.18068697e-02 -2.72586830e-02 -1.44386766e-02\\n  1.50630185e-02 -2.44792178e-02  1.77800748e-02 -2.67741401e-02]'",
     "output_type": "error",
     "traceback": [
      "\u001b[0;31m---------------------------------------------------------------------------\u001b[0m",
      "\u001b[0;31mValueError\u001b[0m                                Traceback (most recent call last)",
      "\u001b[0;32m<ipython-input-34-6a667775e09d>\u001b[0m in \u001b[0;36m<module>\u001b[0;34m\u001b[0m\n\u001b[1;32m      3\u001b[0m \u001b[0;32mfor\u001b[0m \u001b[0mi\u001b[0m \u001b[0;32min\u001b[0m \u001b[0mmeeting_data\u001b[0m\u001b[0;34m[\u001b[0m\u001b[0;34m'vector_average'\u001b[0m\u001b[0;34m]\u001b[0m\u001b[0;34m:\u001b[0m\u001b[0;34m\u001b[0m\u001b[0m\n\u001b[1;32m      4\u001b[0m \u001b[0;34m\u001b[0m\u001b[0m\n\u001b[0;32m----> 5\u001b[0;31m     \u001b[0mcos_sim\u001b[0m \u001b[0;34m=\u001b[0m \u001b[0mcosine_similarity\u001b[0m\u001b[0;34m(\u001b[0m\u001b[0;34m[\u001b[0m\u001b[0mi\u001b[0m\u001b[0;34m]\u001b[0m\u001b[0;34m,\u001b[0m \u001b[0;34m[\u001b[0m\u001b[0mvectorized_input\u001b[0m\u001b[0;34m]\u001b[0m\u001b[0;34m)\u001b[0m\u001b[0;34m\u001b[0m\u001b[0m\n\u001b[0m\u001b[1;32m      6\u001b[0m \u001b[0;34m\u001b[0m\u001b[0m\n\u001b[1;32m      7\u001b[0m     \u001b[0;31m#cos_sim = dot(i, vectorized_input)/(norm(i)*norm(vectorized_input))\u001b[0m\u001b[0;34m\u001b[0m\u001b[0;34m\u001b[0m\u001b[0m\n",
      "\u001b[0;32m/Library/Frameworks/Python.framework/Versions/3.7/lib/python3.7/site-packages/sklearn/metrics/pairwise.py\u001b[0m in \u001b[0;36mcosine_similarity\u001b[0;34m(X, Y, dense_output)\u001b[0m\n\u001b[1;32m   1025\u001b[0m     \u001b[0;31m# to avoid recursive import\u001b[0m\u001b[0;34m\u001b[0m\u001b[0;34m\u001b[0m\u001b[0m\n\u001b[1;32m   1026\u001b[0m \u001b[0;34m\u001b[0m\u001b[0m\n\u001b[0;32m-> 1027\u001b[0;31m     \u001b[0mX\u001b[0m\u001b[0;34m,\u001b[0m \u001b[0mY\u001b[0m \u001b[0;34m=\u001b[0m \u001b[0mcheck_pairwise_arrays\u001b[0m\u001b[0;34m(\u001b[0m\u001b[0mX\u001b[0m\u001b[0;34m,\u001b[0m \u001b[0mY\u001b[0m\u001b[0;34m)\u001b[0m\u001b[0;34m\u001b[0m\u001b[0m\n\u001b[0m\u001b[1;32m   1028\u001b[0m \u001b[0;34m\u001b[0m\u001b[0m\n\u001b[1;32m   1029\u001b[0m     \u001b[0mX_normalized\u001b[0m \u001b[0;34m=\u001b[0m \u001b[0mnormalize\u001b[0m\u001b[0;34m(\u001b[0m\u001b[0mX\u001b[0m\u001b[0;34m,\u001b[0m \u001b[0mcopy\u001b[0m\u001b[0;34m=\u001b[0m\u001b[0;32mTrue\u001b[0m\u001b[0;34m)\u001b[0m\u001b[0;34m\u001b[0m\u001b[0m\n",
      "\u001b[0;32m/Library/Frameworks/Python.framework/Versions/3.7/lib/python3.7/site-packages/sklearn/metrics/pairwise.py\u001b[0m in \u001b[0;36mcheck_pairwise_arrays\u001b[0;34m(X, Y, precomputed, dtype)\u001b[0m\n\u001b[1;32m    110\u001b[0m     \u001b[0;32melse\u001b[0m\u001b[0;34m:\u001b[0m\u001b[0;34m\u001b[0m\u001b[0m\n\u001b[1;32m    111\u001b[0m         X = check_array(X, accept_sparse='csr', dtype=dtype,\n\u001b[0;32m--> 112\u001b[0;31m                         estimator=estimator)\n\u001b[0m\u001b[1;32m    113\u001b[0m         Y = check_array(Y, accept_sparse='csr', dtype=dtype,\n\u001b[1;32m    114\u001b[0m                         estimator=estimator)\n",
      "\u001b[0;32m/Library/Frameworks/Python.framework/Versions/3.7/lib/python3.7/site-packages/sklearn/utils/validation.py\u001b[0m in \u001b[0;36mcheck_array\u001b[0;34m(array, accept_sparse, accept_large_sparse, dtype, order, copy, force_all_finite, ensure_2d, allow_nd, ensure_min_samples, ensure_min_features, warn_on_dtype, estimator)\u001b[0m\n\u001b[1;32m    494\u001b[0m             \u001b[0;32mtry\u001b[0m\u001b[0;34m:\u001b[0m\u001b[0;34m\u001b[0m\u001b[0m\n\u001b[1;32m    495\u001b[0m                 \u001b[0mwarnings\u001b[0m\u001b[0;34m.\u001b[0m\u001b[0msimplefilter\u001b[0m\u001b[0;34m(\u001b[0m\u001b[0;34m'error'\u001b[0m\u001b[0;34m,\u001b[0m \u001b[0mComplexWarning\u001b[0m\u001b[0;34m)\u001b[0m\u001b[0;34m\u001b[0m\u001b[0m\n\u001b[0;32m--> 496\u001b[0;31m                 \u001b[0marray\u001b[0m \u001b[0;34m=\u001b[0m \u001b[0mnp\u001b[0m\u001b[0;34m.\u001b[0m\u001b[0masarray\u001b[0m\u001b[0;34m(\u001b[0m\u001b[0marray\u001b[0m\u001b[0;34m,\u001b[0m \u001b[0mdtype\u001b[0m\u001b[0;34m=\u001b[0m\u001b[0mdtype\u001b[0m\u001b[0;34m,\u001b[0m \u001b[0morder\u001b[0m\u001b[0;34m=\u001b[0m\u001b[0morder\u001b[0m\u001b[0;34m)\u001b[0m\u001b[0;34m\u001b[0m\u001b[0m\n\u001b[0m\u001b[1;32m    497\u001b[0m             \u001b[0;32mexcept\u001b[0m \u001b[0mComplexWarning\u001b[0m\u001b[0;34m:\u001b[0m\u001b[0;34m\u001b[0m\u001b[0m\n\u001b[1;32m    498\u001b[0m                 raise ValueError(\"Complex data not supported\\n\"\n",
      "\u001b[0;32m/Library/Frameworks/Python.framework/Versions/3.7/lib/python3.7/site-packages/numpy/core/numeric.py\u001b[0m in \u001b[0;36masarray\u001b[0;34m(a, dtype, order)\u001b[0m\n\u001b[1;32m    499\u001b[0m \u001b[0;34m\u001b[0m\u001b[0m\n\u001b[1;32m    500\u001b[0m     \"\"\"\n\u001b[0;32m--> 501\u001b[0;31m     \u001b[0;32mreturn\u001b[0m \u001b[0marray\u001b[0m\u001b[0;34m(\u001b[0m\u001b[0ma\u001b[0m\u001b[0;34m,\u001b[0m \u001b[0mdtype\u001b[0m\u001b[0;34m,\u001b[0m \u001b[0mcopy\u001b[0m\u001b[0;34m=\u001b[0m\u001b[0;32mFalse\u001b[0m\u001b[0;34m,\u001b[0m \u001b[0morder\u001b[0m\u001b[0;34m=\u001b[0m\u001b[0morder\u001b[0m\u001b[0;34m)\u001b[0m\u001b[0;34m\u001b[0m\u001b[0m\n\u001b[0m\u001b[1;32m    502\u001b[0m \u001b[0;34m\u001b[0m\u001b[0m\n\u001b[1;32m    503\u001b[0m \u001b[0;34m\u001b[0m\u001b[0m\n",
      "\u001b[0;31mValueError\u001b[0m: could not convert string to float: '[ 3.37069705e-02  2.15817261e-02  2.42023841e-02  9.20957550e-02\\n -5.80082610e-02 -1.94845572e-02  3.32705677e-02 -4.21607979e-02\\n  5.73429689e-02  6.04714192e-02 -1.78775787e-02 -1.24741212e-01\\n -3.40426639e-02  2.37434395e-02 -1.10786133e-01  8.29972848e-02\\n  7.87719712e-02  1.08535461e-01 -5.58151258e-03 -4.74801622e-02\\n -2.40875427e-02  6.16455078e-02  8.53834525e-02 -3.90934758e-02\\n  3.94144617e-02 -9.08813439e-03 -1.03804320e-01  1.97908022e-02\\n  2.52925102e-02 -2.39749141e-02 -5.27938828e-03  1.21661378e-02\\n -3.92318740e-02 -2.33532712e-02  4.50112931e-02  6.99081400e-04\\n  5.29711917e-02  3.58108524e-03  4.22531143e-02  6.86277002e-02\\n  7.47647062e-02 -4.59551997e-02  7.62739554e-02 -2.83418279e-02\\n -3.76726165e-02 -1.39042661e-02 -5.33309951e-02 -2.45935339e-02\\n  2.20593270e-02  3.21833603e-02 -1.09017948e-02  4.72280122e-02\\n  1.94335938e-03  7.75985711e-04 -6.82067871e-03  2.30400078e-02\\n -8.06091353e-03 -4.58009914e-02  4.53411862e-02 -7.64938369e-02\\n  3.66233825e-03  7.95141608e-02 -5.78410327e-02 -4.51795682e-02\\n -9.60920379e-03 -2.77069099e-02 -4.96142581e-02  7.33128339e-02\\n -6.64802194e-02  6.63728714e-02  7.54641742e-02  1.98361967e-02\\n  5.39811701e-02  2.65362170e-02 -1.68089747e-01 -6.46121204e-02\\n  1.12831570e-01  8.06871057e-02  6.07114024e-02  1.03178866e-01\\n  2.02355962e-02 -5.11407852e-02  3.99460606e-02  1.55487063e-03\\n -9.54040512e-02 -6.18141182e-02 -8.69280994e-02  1.38599098e-01\\n  1.07116695e-03  1.65252684e-04  4.92541492e-02  3.86128239e-02\\n -2.96177678e-02 -7.17948154e-02 -4.05395515e-02 -5.10308072e-02\\n  6.60745203e-02  6.45058453e-02  2.41195690e-03 -2.29323395e-02\\n -7.18407258e-02 -5.70591353e-02  1.10160066e-02  6.42364472e-02\\n -3.56256105e-02 -2.23063659e-02 -3.82394977e-02 -6.55912757e-02\\n  3.18447500e-02 -6.01124577e-02 -8.36993381e-02 -1.05018616e-02\\n -6.51504518e-03  1.70951840e-02  4.95703109e-02 -4.03705612e-03\\n  4.78144065e-02 -5.10598384e-02  6.27085492e-02  2.13968661e-02\\n -1.04977943e-01  2.21078489e-02 -7.99904987e-02  5.69903553e-02\\n -2.49447636e-02 -1.52265839e-02 -3.68508920e-02 -5.00827022e-02\\n  1.46485139e-02 -2.42477423e-03 -7.16734305e-02 -1.20196991e-01\\n -1.00937195e-01 -6.23677075e-02 -3.76212411e-02 -7.67281875e-02\\n  1.22073367e-02 -6.47860172e-04  2.78701019e-02  1.01766817e-01\\n  7.55317695e-03 -2.07972713e-02  3.41498479e-02 -2.63574980e-02\\n  4.50820178e-02  3.85209657e-02 -7.65995756e-02 -1.22982807e-01\\n -6.28643036e-02 -3.17001343e-02  8.28372985e-02  3.18292230e-02\\n -1.18705139e-01  2.32205205e-02 -2.49435427e-03  1.91564932e-02\\n -1.14672855e-02 -5.96468449e-02 -4.91569526e-02  1.97842401e-02\\n  1.07336426e-02  5.04998788e-02  2.12170407e-02  7.79617280e-02\\n  4.00946625e-02 -1.00633010e-01  1.69647597e-02 -1.47512006e-02\\n  7.15890527e-02 -2.15267949e-02 -1.04187854e-01  1.23934178e-02\\n -1.52798463e-02 -1.09547585e-01 -2.38226317e-02 -1.44271849e-04\\n  9.69998166e-02 -4.34491746e-02 -2.93698888e-02  9.12982970e-03\\n -7.62544274e-02 -3.16172801e-02  3.95167544e-02  2.79811472e-02\\n -3.42330942e-03 -3.10395807e-02 -3.98985296e-02  3.72629538e-02\\n  5.19635007e-02  3.89035791e-02  2.14554593e-02  5.48112094e-02\\n  1.42144775e-02  2.92779543e-02 -1.49336243e-02  1.72692873e-02\\n -3.68203744e-02 -5.44840991e-02 -5.42141907e-02 -1.19331971e-01\\n -9.37370304e-03  3.42831425e-02 -4.22287285e-02 -2.33284757e-02\\n  8.90556350e-03 -1.09649654e-02 -9.30080786e-02 -1.51337432e-02\\n  7.04264864e-02 -2.78366078e-03 -1.85176842e-02  1.91349797e-02\\n -3.94069664e-02  3.17352302e-02 -8.26156586e-02  5.05401613e-03\\n  1.01374209e-01 -3.40812691e-02 -9.24984366e-02 -1.44363400e-02\\n -2.49816515e-02  2.22280119e-02 -1.33746723e-02 -2.28320304e-02\\n  9.26834121e-02 -8.42150897e-02  8.23556483e-02  6.15945421e-02\\n -3.86047359e-05 -1.76821891e-02  2.07509622e-02 -4.15874086e-02\\n  3.65997329e-02  9.27289017e-03  4.60721217e-02 -1.94000062e-02\\n  3.35198976e-02 -4.14474495e-02  5.05201705e-02 -2.19143685e-02\\n  3.30926888e-02  1.95991527e-03  8.16513039e-03 -6.02608882e-02\\n  2.24060053e-03  5.17552942e-02  3.08013912e-02  4.77518290e-02\\n  1.41162872e-02 -3.89378369e-02  2.38214117e-02  3.54496762e-02\\n  3.19869630e-02  5.36267385e-02  4.24627699e-02 -2.17154697e-02\\n  4.63424698e-02  1.34851076e-02 -8.58020037e-02 -6.93136603e-02\\n -5.70169054e-02 -3.62133794e-02 -6.11230470e-02  4.30664048e-02\\n  2.75884252e-02  1.25529781e-01 -1.32585140e-02  1.98448952e-02\\n -7.76187107e-02  3.25337201e-02  3.57018262e-02  1.06022947e-01\\n  1.07973024e-01  1.12022094e-01  2.40010079e-02 -5.89581281e-02\\n -1.55294035e-02 -1.22764893e-01 -1.51930237e-02 -4.57460023e-02\\n  2.73107905e-02 -1.65673066e-02  3.06997672e-02  8.83074924e-02\\n  2.56383140e-02  5.12277614e-03 -6.00900277e-02 -3.64182293e-02\\n  3.87750231e-02  7.57666752e-02 -1.01937182e-01  4.44903560e-02\\n -1.18380353e-01  2.18068697e-02 -2.72586830e-02 -1.44386766e-02\\n  1.50630185e-02 -2.44792178e-02  1.77800748e-02 -2.67741401e-02]'"
     ]
    }
   ],
   "source": [
    "# calculate WMD distance\n",
    "input_veclist = []\n",
    "for i in meeting_data['vector_average']:\n",
    "    \n",
    "    cos_sim = cosine_similarity([i], [vectorized_input])\n",
    "    \n",
    "    #cos_sim = dot(i, vectorized_input)/(norm(i)*norm(vectorized_input))\n",
    "    input_veclist.append(cos_sim)\n",
    "\n"
   ]
  },
  {
   "cell_type": "code",
   "execution_count": null,
   "metadata": {},
   "outputs": [],
   "source": [
    "if len(origin_sentence_tokens) == 0:\n",
    "        hover_text = ' '.join(target_sentence_htmls[:n_top_matches])\n",
    "    else:\n",
    "        origin_sentence_vectors = wiki2vec_vectorizer(origin_sentence_tokens)#np.array([mean_filtered(embed, sent) for sent in origin_sentence_tokens])\n",
    "        target_sentence_vectors = wiki2vec_vectorizer(target_sentence_tokens)#np.array([mean_filtered(embed, sent) for sent in target_sentence_tokens])\n",
    "\n",
    "        top_match_indices = (1 - cosine_similarity(origin_sentence_vectors, target_sentence_vectors)[0]).argsort()\n",
    "\n",
    "        # sent_range = 2\n",
    "\n",
    "        # hover_text = '\\n'.join([' '.join(target_sentence_htmls[i - sent_range:i + sent_range + 1]) for i in top_match_indices[:n_top_matches]])\n",
    "        # hover_text = '<br>---<br>'.join([target_sentence_htmls[i] for i in top_match_indices[:n_top_matches]])\n",
    "        hover_text = '<br>---<br>'.join([target_sentence_htmls[i] for i in top_match_indices[:n_top_matches]])\n",
    "    \n",
    "    return str.encode(hover_text)"
   ]
  },
  {
   "cell_type": "code",
   "execution_count": null,
   "metadata": {},
   "outputs": [],
   "source": [
    "# add input_veclist to df\n",
    "meeting_data['inputvectors'] = input_veclist\n",
    "\n"
   ]
  },
  {
   "cell_type": "code",
   "execution_count": null,
   "metadata": {},
   "outputs": [],
   "source": [
    "# sort dataframe in ascending order by distance\n",
    "meeting_data.sort_values(by=['distance'])\n",
    "\n",
    "# return url for top 3 rows\n",
    "return print(meeting_data['text'].head(3))"
   ]
  }
 ],
 "metadata": {
  "kernelspec": {
   "display_name": "Python 3",
   "language": "python",
   "name": "python3"
  },
  "language_info": {
   "codemirror_mode": {
    "name": "ipython",
    "version": 3
   },
   "file_extension": ".py",
   "mimetype": "text/x-python",
   "name": "python",
   "nbconvert_exporter": "python",
   "pygments_lexer": "ipython3",
   "version": "3.7.0"
  }
 },
 "nbformat": 4,
 "nbformat_minor": 4
}
