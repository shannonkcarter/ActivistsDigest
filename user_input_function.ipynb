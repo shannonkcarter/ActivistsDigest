{
 "cells": [
  {
   "cell_type": "code",
   "execution_count": 1,
   "metadata": {},
   "outputs": [],
   "source": [
    "from nltk.tokenize import word_tokenize\n",
    "from nltk.corpus import stopwords\n",
    "import nltk.data\n",
    "import nltk\n",
    "import glob\n",
    "import os\n",
    "import re\n",
    "import string\n",
    "import pandas as pd\n",
    "import gensim\n",
    "from gensim.models import KeyedVectors\n",
    "from gensim.models import Word2Vec\n",
    "import numpy as np\n",
    "from sklearn import preprocessing\n",
    "from numpy import dot\n",
    "from numpy.linalg import norm\n",
    "from pyemd import emd\n",
    "from sklearn.metrics.pairwise import cosine_similarity"
   ]
  },
  {
   "cell_type": "code",
   "execution_count": 2,
   "metadata": {},
   "outputs": [],
   "source": [
    "meeting_data = pd.read_pickle(\"pickleddf.pkl\")"
   ]
  },
  {
   "cell_type": "code",
   "execution_count": 185,
   "metadata": {},
   "outputs": [
    {
     "data": {
      "text/html": [
       "<div>\n",
       "<style scoped>\n",
       "    .dataframe tbody tr th:only-of-type {\n",
       "        vertical-align: middle;\n",
       "    }\n",
       "\n",
       "    .dataframe tbody tr th {\n",
       "        vertical-align: top;\n",
       "    }\n",
       "\n",
       "    .dataframe thead th {\n",
       "        text-align: right;\n",
       "    }\n",
       "</style>\n",
       "<table border=\"1\" class=\"dataframe\">\n",
       "  <thead>\n",
       "    <tr style=\"text-align: right;\">\n",
       "      <th></th>\n",
       "      <th>date</th>\n",
       "      <th>text</th>\n",
       "      <th>vector_average</th>\n",
       "    </tr>\n",
       "  </thead>\n",
       "  <tbody>\n",
       "    <tr>\n",
       "      <th>0</th>\n",
       "      <td>2015-03-26</td>\n",
       "      <td>Mayor pro tem I had a que stion for Mr Mckinn...</td>\n",
       "      <td>[0.03370697, 0.021581726, 0.024202384, 0.09209...</td>\n",
       "    </tr>\n",
       "    <tr>\n",
       "      <th>1</th>\n",
       "      <td>2015-03-26</td>\n",
       "      <td>There are 20 that are signed up for the next ...</td>\n",
       "      <td>[0.02433229, 0.03419032, 0.00010202286, 0.1011...</td>\n",
       "    </tr>\n",
       "    <tr>\n",
       "      <th>2</th>\n",
       "      <td>2015-03-26</td>\n",
       "      <td>Okay The other thing is Im going to do everyt...</td>\n",
       "      <td>[0.041835412, 0.021017635, 0.021236643, 0.1323...</td>\n",
       "    </tr>\n",
       "    <tr>\n",
       "      <th>3</th>\n",
       "      <td>2015-03-26</td>\n",
       "      <td>Thanks Hello My name is Jacquie benastante an...</td>\n",
       "      <td>[0.012454927, 0.028385554, 0.027422577, 0.0879...</td>\n",
       "    </tr>\n",
       "    <tr>\n",
       "      <th>4</th>\n",
       "      <td>2015-03-26</td>\n",
       "      <td>Good afternoon Three of us are here today and...</td>\n",
       "      <td>[-0.018927153, 0.027210213, 0.046535354, 0.069...</td>\n",
       "    </tr>\n",
       "  </tbody>\n",
       "</table>\n",
       "</div>"
      ],
      "text/plain": [
       "         date                                               text  \\\n",
       "0  2015-03-26   Mayor pro tem I had a que stion for Mr Mckinn...   \n",
       "1  2015-03-26   There are 20 that are signed up for the next ...   \n",
       "2  2015-03-26   Okay The other thing is Im going to do everyt...   \n",
       "3  2015-03-26   Thanks Hello My name is Jacquie benastante an...   \n",
       "4  2015-03-26   Good afternoon Three of us are here today and...   \n",
       "\n",
       "                                      vector_average  \n",
       "0  [0.03370697, 0.021581726, 0.024202384, 0.09209...  \n",
       "1  [0.02433229, 0.03419032, 0.00010202286, 0.1011...  \n",
       "2  [0.041835412, 0.021017635, 0.021236643, 0.1323...  \n",
       "3  [0.012454927, 0.028385554, 0.027422577, 0.0879...  \n",
       "4  [-0.018927153, 0.027210213, 0.046535354, 0.069...  "
      ]
     },
     "execution_count": 185,
     "metadata": {},
     "output_type": "execute_result"
    }
   ],
   "source": [
    "meeting_data.head()"
   ]
  },
  {
   "cell_type": "code",
   "execution_count": 186,
   "metadata": {},
   "outputs": [
    {
     "data": {
      "text/plain": [
       "(300,)"
      ]
     },
     "execution_count": 186,
     "metadata": {},
     "output_type": "execute_result"
    }
   ],
   "source": [
    "meeting_data[\"vector_average\"][0].shape"
   ]
  },
  {
   "cell_type": "code",
   "execution_count": 211,
   "metadata": {},
   "outputs": [
    {
     "data": {
      "text/plain": [
       "['bike']"
      ]
     },
     "execution_count": 211,
     "metadata": {},
     "output_type": "execute_result"
    }
   ],
   "source": [
    "# mock user input\n",
    "text = \"bike\"\n",
    "\n",
    "# clean and tokenize user input\n",
    "tokenized_input = nltk.word_tokenize(text)\n",
    "\n",
    "tokenized_input"
   ]
  },
  {
   "cell_type": "code",
   "execution_count": 212,
   "metadata": {},
   "outputs": [
    {
     "data": {
      "text/plain": [
       "(300,)"
      ]
     },
     "execution_count": 212,
     "metadata": {},
     "output_type": "execute_result"
    }
   ],
   "source": [
    "# get vectors for input text\n",
    "#filename = 'GoogleNews-vectors-negative300.bin'\n",
    "#emb_model = KeyedVectors.load_word2vec_format(filename, binary=True)\n",
    "vectorized_input = emb_model[tokenized_input]\n",
    "\n",
    "vectorized_input[0].shape\n",
    "#vectorized_input"
   ]
  },
  {
   "cell_type": "code",
   "execution_count": 199,
   "metadata": {},
   "outputs": [
    {
     "data": {
      "text/plain": [
       "(300,)"
      ]
     },
     "execution_count": 199,
     "metadata": {},
     "output_type": "execute_result"
    }
   ],
   "source": [
    "# vectorized input size needs to be 1, 300\n",
    "meeting_data['vector_average'][0].shape"
   ]
  },
  {
   "cell_type": "code",
   "execution_count": 213,
   "metadata": {},
   "outputs": [
    {
     "data": {
      "text/html": [
       "<div>\n",
       "<style scoped>\n",
       "    .dataframe tbody tr th:only-of-type {\n",
       "        vertical-align: middle;\n",
       "    }\n",
       "\n",
       "    .dataframe tbody tr th {\n",
       "        vertical-align: top;\n",
       "    }\n",
       "\n",
       "    .dataframe thead th {\n",
       "        text-align: right;\n",
       "    }\n",
       "</style>\n",
       "<table border=\"1\" class=\"dataframe\">\n",
       "  <thead>\n",
       "    <tr style=\"text-align: right;\">\n",
       "      <th></th>\n",
       "      <th>date</th>\n",
       "      <th>text</th>\n",
       "      <th>vector_average</th>\n",
       "    </tr>\n",
       "  </thead>\n",
       "  <tbody>\n",
       "    <tr>\n",
       "      <th>0</th>\n",
       "      <td>2015-03-26</td>\n",
       "      <td>Mayor pro tem I had a que stion for Mr Mckinn...</td>\n",
       "      <td>[0.03370697, 0.021581726, 0.024202384, 0.09209...</td>\n",
       "    </tr>\n",
       "    <tr>\n",
       "      <th>1</th>\n",
       "      <td>2015-03-26</td>\n",
       "      <td>There are 20 that are signed up for the next ...</td>\n",
       "      <td>[0.02433229, 0.03419032, 0.00010202286, 0.1011...</td>\n",
       "    </tr>\n",
       "    <tr>\n",
       "      <th>2</th>\n",
       "      <td>2015-03-26</td>\n",
       "      <td>Okay The other thing is Im going to do everyt...</td>\n",
       "      <td>[0.041835412, 0.021017635, 0.021236643, 0.1323...</td>\n",
       "    </tr>\n",
       "    <tr>\n",
       "      <th>3</th>\n",
       "      <td>2015-03-26</td>\n",
       "      <td>Thanks Hello My name is Jacquie benastante an...</td>\n",
       "      <td>[0.012454927, 0.028385554, 0.027422577, 0.0879...</td>\n",
       "    </tr>\n",
       "    <tr>\n",
       "      <th>4</th>\n",
       "      <td>2015-03-26</td>\n",
       "      <td>Good afternoon Three of us are here today and...</td>\n",
       "      <td>[-0.018927153, 0.027210213, 0.046535354, 0.069...</td>\n",
       "    </tr>\n",
       "  </tbody>\n",
       "</table>\n",
       "</div>"
      ],
      "text/plain": [
       "         date                                               text  \\\n",
       "0  2015-03-26   Mayor pro tem I had a que stion for Mr Mckinn...   \n",
       "1  2015-03-26   There are 20 that are signed up for the next ...   \n",
       "2  2015-03-26   Okay The other thing is Im going to do everyt...   \n",
       "3  2015-03-26   Thanks Hello My name is Jacquie benastante an...   \n",
       "4  2015-03-26   Good afternoon Three of us are here today and...   \n",
       "\n",
       "                                      vector_average  \n",
       "0  [0.03370697, 0.021581726, 0.024202384, 0.09209...  \n",
       "1  [0.02433229, 0.03419032, 0.00010202286, 0.1011...  \n",
       "2  [0.041835412, 0.021017635, 0.021236643, 0.1323...  \n",
       "3  [0.012454927, 0.028385554, 0.027422577, 0.0879...  \n",
       "4  [-0.018927153, 0.027210213, 0.046535354, 0.069...  "
      ]
     },
     "execution_count": 213,
     "metadata": {},
     "output_type": "execute_result"
    }
   ],
   "source": [
    "meeting_data.head()"
   ]
  },
  {
   "cell_type": "code",
   "execution_count": 214,
   "metadata": {},
   "outputs": [],
   "source": [
    "# test function\n",
    "def get_cosine(array1,array2):\n",
    "  array1 = array1.reshape(1,-1)\n",
    "  array2 = array2.reshape(1,-1)\n",
    "  return cosine_similarity(array1,array2)"
   ]
  },
  {
   "cell_type": "code",
   "execution_count": null,
   "metadata": {},
   "outputs": [],
   "source": [
    "# write in my placeholders\n",
    "def get_cosine(array1,array2):\n",
    "  array1 = array1.reshape(1,-1)\n",
    "  array2 = array2.reshape(1,-1)\n",
    "  return cosine_similarity(array1,array2)"
   ]
  },
  {
   "cell_type": "code",
   "execution_count": null,
   "metadata": {},
   "outputs": [],
   "source": []
  },
  {
   "cell_type": "code",
   "execution_count": 165,
   "metadata": {},
   "outputs": [],
   "source": [
    "# calculate cosine similarity\n",
    "cos_sim_input_data = []\n",
    "for i in meeting_data['corrected_vectors']:\n",
    "    cos_sim = cosine_similarity(i, vectorized_input.transpose())\n",
    "    cos_sim_input_data.append(cos_sim)\n",
    "    #print(vectorized_input.transpose().shape)\n"
   ]
  },
  {
   "cell_type": "code",
   "execution_count": 225,
   "metadata": {},
   "outputs": [
    {
     "data": {
      "text/plain": [
       "0.26909935"
      ]
     },
     "execution_count": 225,
     "metadata": {},
     "output_type": "execute_result"
    }
   ],
   "source": [
    "cosine_sim[0,0] = get_cosine(meeting_data['vector_average'][0], vectorized_input[0])\n",
    "cosine_sim"
   ]
  },
  {
   "cell_type": "code",
   "execution_count": 226,
   "metadata": {},
   "outputs": [
    {
     "data": {
      "text/plain": [
       "0.26909935"
      ]
     },
     "execution_count": 226,
     "metadata": {},
     "output_type": "execute_result"
    }
   ],
   "source": [
    "cosine_sim = get_cosine(meeting_data['vector_average'][0], vectorized_input[0])[0, 0]\n",
    "cosine_sim"
   ]
  },
  {
   "cell_type": "code",
   "execution_count": 96,
   "metadata": {},
   "outputs": [],
   "source": [
    "## Failed reshape attempts - keeping for reference\n",
    "#numpy.reshape(meeting_data['vector_average'][0], 1, 300)\n",
    "#meeting_data['vector_average'][0].newaxis()\n",
    "#array.reshape(-1, 1)\n",
    "#vectorized_input[0].reshape(-1, 1)\n",
    "#meeting_data[\"corrected_vectors\"][0].reshape(-1, 1)\n",
    "\n",
    "#test.transpose().shape\n",
    "#meeting_data['vector_average'][0].shape"
   ]
  },
  {
   "cell_type": "code",
   "execution_count": 145,
   "metadata": {},
   "outputs": [
    {
     "data": {
      "text/plain": [
       "array([[-1., -1., -1., ...,  1., -1.,  1.],\n",
       "       [-1., -1., -1., ...,  1., -1.,  1.],\n",
       "       [-1., -1., -1., ...,  1., -1.,  1.],\n",
       "       ...,\n",
       "       [ 1.,  1.,  1., ..., -1.,  1., -1.],\n",
       "       [-1., -1., -1., ...,  1., -1.,  1.],\n",
       "       [-1., -1., -1., ...,  1., -1.,  1.]], dtype=float32)"
      ]
     },
     "execution_count": 145,
     "metadata": {},
     "output_type": "execute_result"
    }
   ],
   "source": [
    "#cosine_similarity(vectorized_input[0].reshape(-1, 1), meeting_data[\"corrected_vectors\"][0].reshape(-1, 1))\n",
    "cosine_similarity(vectorized_input.reshape(-1, 1), meeting_data[\"corrected_vectors\"][0].reshape(-1, 1))"
   ]
  },
  {
   "cell_type": "code",
   "execution_count": 168,
   "metadata": {},
   "outputs": [],
   "source": [
    "meeting_data[\"cos_sim\"] = cos_sim_input_data"
   ]
  },
  {
   "cell_type": "code",
   "execution_count": 202,
   "metadata": {},
   "outputs": [
    {
     "data": {
      "text/plain": [
       "(300,)"
      ]
     },
     "execution_count": 202,
     "metadata": {},
     "output_type": "execute_result"
    }
   ],
   "source": [
    "meeting_data['vector_average'][0].shape"
   ]
  },
  {
   "cell_type": "code",
   "execution_count": 200,
   "metadata": {},
   "outputs": [],
   "source": [
    "vectors_1d = []\n",
    "for nd_vec in meeting_data.vector_average:\n",
    "    vectors_1d.append(nd_vec[:,np.newaxis])\n",
    "    \n",
    "meeting_data[\"corrected_vectors\"] = vectors_1d"
   ]
  },
  {
   "cell_type": "code",
   "execution_count": 167,
   "metadata": {},
   "outputs": [
    {
     "data": {
      "text/plain": [
       "array([[-1., -1., -1., ...,  1., -1., -1.],\n",
       "       [-1., -1., -1., ...,  1., -1., -1.],\n",
       "       [-1., -1., -1., ...,  1., -1., -1.],\n",
       "       ...,\n",
       "       [ 1.,  1.,  1., ..., -1.,  1.,  1.],\n",
       "       [-1., -1., -1., ...,  1., -1., -1.],\n",
       "       [ 1.,  1.,  1., ..., -1.,  1.,  1.]], dtype=float32)"
      ]
     },
     "execution_count": 167,
     "metadata": {},
     "output_type": "execute_result"
    }
   ],
   "source": [
    "cos_sim_input_data[0]"
   ]
  },
  {
   "cell_type": "code",
   "execution_count": null,
   "metadata": {},
   "outputs": [],
   "source": [
    "# add input_veclist to df\n",
    "meeting_data['inputvectors'] = input_veclist\n",
    "\n"
   ]
  },
  {
   "cell_type": "code",
   "execution_count": null,
   "metadata": {},
   "outputs": [],
   "source": [
    "# sort dataframe in ascending order by distance\n",
    "meeting_data.sort_values(by=['distance'])\n",
    "\n",
    "# return url for top 3 rows\n",
    "return print(meeting_data['text'].head(3))"
   ]
  },
  {
   "cell_type": "code",
   "execution_count": 9,
   "metadata": {},
   "outputs": [],
   "source": [
    "def activistsdigest():\n",
    "    # accept user input\n",
    "    text = input(\"Write a topic of interest here: \")\n",
    "\n",
    "    # clean and tokenize user input\n",
    "    tokenized_input = nltk.word_tokenize(text)\n",
    "    \n",
    "    # get vectors for input text\n",
    "    filename = 'GoogleNews-vectors-negative300.bin'\n",
    "    emb_model = KeyedVectors.load_word2vec_format(filename, binary=True)\n",
    "    vectorized_input = emb_model[tokenized_input]\n",
    "\n",
    "    def get_cosine(array1,array2):\n",
    "      array1 = array1.reshape(1,-1)\n",
    "      array2 = array2.reshape(1,-1)\n",
    "      return cosine_similarity(array1,array2)\n",
    "    \n",
    "    cosine_list = []\n",
    "    for i in meeting_data['vector_average']:\n",
    "        cosine_sim = get_cosine(meeting_data['vector_average'][0], vectorized_input[0])[0, 0]\n",
    "        cosine_list.append(cosine_sim)\n",
    "    \n",
    "    # add input_veclist to df\n",
    "    meeting_data['cosine_similarity'] = cosine_list\n",
    "\n",
    "    # sort dataframe in ascending order by distance\n",
    "    meeting_data.sort_values(by=['cosine_similarity'])\n",
    "\n",
    "    # return url for top 3 rows\n",
    "    return print(meeting_data.head(10))"
   ]
  },
  {
   "cell_type": "code",
   "execution_count": 11,
   "metadata": {},
   "outputs": [
    {
     "name": "stdin",
     "output_type": "stream",
     "text": [
      "Write a topic of interest here:  bike lane\n"
     ]
    },
    {
     "name": "stdout",
     "output_type": "stream",
     "text": [
      "         date                                               text  \\\n",
      "0  2015-03-26   Mayor pro tem I had a que stion for Mr Mckinn...   \n",
      "1  2015-03-26   There are 20 that are signed up for the next ...   \n",
      "2  2015-03-26   Okay The other thing is Im going to do everyt...   \n",
      "3  2015-03-26   Thanks Hello My name is Jacquie benastante an...   \n",
      "4  2015-03-26   Good afternoon Three of us are here today and...   \n",
      "5  2015-03-26   Ive been practicing in Austin Texas for 22 ye...   \n",
      "6  2015-03-26   Thank yo u city council This is my first time...   \n",
      "7  2015-03-26   Floored is not natural anywhere on the body T...   \n",
      "8  2015-03-26   So Dr Joan Sefcik indicates that fluoride is ...   \n",
      "9  2015-03-26   Thank you Okay Hi Okay I didnt have time or e...   \n",
      "\n",
      "                                      vector_average  cosine_similarity  \n",
      "0  [0.03370697, 0.021581726, 0.024202384, 0.09209...           0.269099  \n",
      "1  [0.02433229, 0.03419032, 0.00010202286, 0.1011...           0.269099  \n",
      "2  [0.041835412, 0.021017635, 0.021236643, 0.1323...           0.269099  \n",
      "3  [0.012454927, 0.028385554, 0.027422577, 0.0879...           0.269099  \n",
      "4  [-0.018927153, 0.027210213, 0.046535354, 0.069...           0.269099  \n",
      "5  [0.024248382, 0.021770637, 0.0361461, 0.072508...           0.269099  \n",
      "6  [0.0071956604, 0.05798711, 0.05819489, 0.07945...           0.269099  \n",
      "7  [-0.0131858755, 0.04695532, 0.06918631, 0.0716...           0.269099  \n",
      "8  [-0.06738651, -0.0047357734, 0.07559204, 0.052...           0.269099  \n",
      "9  [0.010872083, 0.030065292, 0.057888716, 0.1328...           0.269099  \n"
     ]
    }
   ],
   "source": [
    "activistsdigest()"
   ]
  },
  {
   "cell_type": "code",
   "execution_count": null,
   "metadata": {},
   "outputs": [],
   "source": []
  }
 ],
 "metadata": {
  "kernelspec": {
   "display_name": "Python 3",
   "language": "python",
   "name": "python3"
  },
  "language_info": {
   "codemirror_mode": {
    "name": "ipython",
    "version": 3
   },
   "file_extension": ".py",
   "mimetype": "text/x-python",
   "name": "python",
   "nbconvert_exporter": "python",
   "pygments_lexer": "ipython3",
   "version": "3.7.0"
  }
 },
 "nbformat": 4,
 "nbformat_minor": 4
}
