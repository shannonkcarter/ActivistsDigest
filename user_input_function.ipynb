{
 "cells": [
  {
   "cell_type": "code",
   "execution_count": 1,
   "metadata": {},
   "outputs": [],
   "source": [
    "from nltk.tokenize import word_tokenize\n",
    "from nltk.corpus import stopwords\n",
    "import nltk.data\n",
    "import nltk\n",
    "import glob\n",
    "import os\n",
    "import re\n",
    "import string\n",
    "import pandas as pd\n",
    "import gensim\n",
    "from gensim.models import KeyedVectors\n",
    "from gensim.models import Word2Vec\n",
    "import numpy as np\n",
    "from sklearn import preprocessing\n",
    "from numpy import dot\n",
    "from numpy.linalg import norm\n",
    "from pyemd import emd\n",
    "from sklearn.metrics.pairwise import cosine_similarity"
   ]
  },
  {
   "cell_type": "code",
   "execution_count": 6,
   "metadata": {},
   "outputs": [],
   "source": [
    "meeting_data = pd.read_pickle(\"pickleddf.pkl\")"
   ]
  },
  {
   "cell_type": "code",
   "execution_count": 7,
   "metadata": {},
   "outputs": [
    {
     "data": {
      "text/html": [
       "<div>\n",
       "<style scoped>\n",
       "    .dataframe tbody tr th:only-of-type {\n",
       "        vertical-align: middle;\n",
       "    }\n",
       "\n",
       "    .dataframe tbody tr th {\n",
       "        vertical-align: top;\n",
       "    }\n",
       "\n",
       "    .dataframe thead th {\n",
       "        text-align: right;\n",
       "    }\n",
       "</style>\n",
       "<table border=\"1\" class=\"dataframe\">\n",
       "  <thead>\n",
       "    <tr style=\"text-align: right;\">\n",
       "      <th></th>\n",
       "      <th>date</th>\n",
       "      <th>text</th>\n",
       "      <th>vector_average</th>\n",
       "    </tr>\n",
       "  </thead>\n",
       "  <tbody>\n",
       "    <tr>\n",
       "      <th>0</th>\n",
       "      <td>2015-03-26</td>\n",
       "      <td>Mayor pro tem I had a que stion for Mr Mckinn...</td>\n",
       "      <td>[0.03370697, 0.021581726, 0.024202384, 0.09209...</td>\n",
       "    </tr>\n",
       "    <tr>\n",
       "      <th>1</th>\n",
       "      <td>2015-03-26</td>\n",
       "      <td>There are 20 that are signed up for the next ...</td>\n",
       "      <td>[0.02433229, 0.03419032, 0.00010202286, 0.1011...</td>\n",
       "    </tr>\n",
       "    <tr>\n",
       "      <th>2</th>\n",
       "      <td>2015-03-26</td>\n",
       "      <td>Okay The other thing is Im going to do everyt...</td>\n",
       "      <td>[0.041835412, 0.021017635, 0.021236643, 0.1323...</td>\n",
       "    </tr>\n",
       "    <tr>\n",
       "      <th>3</th>\n",
       "      <td>2015-03-26</td>\n",
       "      <td>Thanks Hello My name is Jacquie benastante an...</td>\n",
       "      <td>[0.012454927, 0.028385554, 0.027422577, 0.0879...</td>\n",
       "    </tr>\n",
       "    <tr>\n",
       "      <th>4</th>\n",
       "      <td>2015-03-26</td>\n",
       "      <td>Good afternoon Three of us are here today and...</td>\n",
       "      <td>[-0.018927153, 0.027210213, 0.046535354, 0.069...</td>\n",
       "    </tr>\n",
       "  </tbody>\n",
       "</table>\n",
       "</div>"
      ],
      "text/plain": [
       "         date                                               text  \\\n",
       "0  2015-03-26   Mayor pro tem I had a que stion for Mr Mckinn...   \n",
       "1  2015-03-26   There are 20 that are signed up for the next ...   \n",
       "2  2015-03-26   Okay The other thing is Im going to do everyt...   \n",
       "3  2015-03-26   Thanks Hello My name is Jacquie benastante an...   \n",
       "4  2015-03-26   Good afternoon Three of us are here today and...   \n",
       "\n",
       "                                      vector_average  \n",
       "0  [0.03370697, 0.021581726, 0.024202384, 0.09209...  \n",
       "1  [0.02433229, 0.03419032, 0.00010202286, 0.1011...  \n",
       "2  [0.041835412, 0.021017635, 0.021236643, 0.1323...  \n",
       "3  [0.012454927, 0.028385554, 0.027422577, 0.0879...  \n",
       "4  [-0.018927153, 0.027210213, 0.046535354, 0.069...  "
      ]
     },
     "execution_count": 7,
     "metadata": {},
     "output_type": "execute_result"
    }
   ],
   "source": [
    "meeting_data.head()"
   ]
  },
  {
   "cell_type": "code",
   "execution_count": 3,
   "metadata": {},
   "outputs": [
    {
     "data": {
      "text/plain": [
       "(300,)"
      ]
     },
     "execution_count": 3,
     "metadata": {},
     "output_type": "execute_result"
    }
   ],
   "source": [
    "meeting_data[\"vector_average\"][0].shape"
   ]
  },
  {
   "cell_type": "code",
   "execution_count": 26,
   "metadata": {},
   "outputs": [
    {
     "data": {
      "text/plain": [
       "['bike']"
      ]
     },
     "execution_count": 26,
     "metadata": {},
     "output_type": "execute_result"
    }
   ],
   "source": [
    "# mock user input\n",
    "text = \"bike\"\n",
    "\n",
    "# clean and tokenize user input\n",
    "tokenized_input = nltk.word_tokenize(text)\n",
    "\n",
    "tokenized_input"
   ]
  },
  {
   "cell_type": "code",
   "execution_count": 24,
   "metadata": {},
   "outputs": [
    {
     "ename": "NameError",
     "evalue": "name 'tokenized_input' is not defined",
     "output_type": "error",
     "traceback": [
      "\u001b[0;31m---------------------------------------------------------------------------\u001b[0m",
      "\u001b[0;31mNameError\u001b[0m                                 Traceback (most recent call last)",
      "\u001b[0;32m<ipython-input-24-26f95db20e3c>\u001b[0m in \u001b[0;36m<module>\u001b[0;34m\u001b[0m\n\u001b[1;32m      2\u001b[0m \u001b[0mfilename\u001b[0m \u001b[0;34m=\u001b[0m \u001b[0;34m'GoogleNews-vectors-negative300.bin'\u001b[0m\u001b[0;34m\u001b[0m\u001b[0m\n\u001b[1;32m      3\u001b[0m \u001b[0memb_model\u001b[0m \u001b[0;34m=\u001b[0m \u001b[0mKeyedVectors\u001b[0m\u001b[0;34m.\u001b[0m\u001b[0mload_word2vec_format\u001b[0m\u001b[0;34m(\u001b[0m\u001b[0mfilename\u001b[0m\u001b[0;34m,\u001b[0m \u001b[0mbinary\u001b[0m\u001b[0;34m=\u001b[0m\u001b[0;32mTrue\u001b[0m\u001b[0;34m)\u001b[0m\u001b[0;34m\u001b[0m\u001b[0m\n\u001b[0;32m----> 4\u001b[0;31m \u001b[0mvectorized_input\u001b[0m \u001b[0;34m=\u001b[0m \u001b[0memb_model\u001b[0m\u001b[0;34m[\u001b[0m\u001b[0mtokenized_input\u001b[0m\u001b[0;34m]\u001b[0m\u001b[0;34m\u001b[0m\u001b[0m\n\u001b[0m\u001b[1;32m      5\u001b[0m \u001b[0;34m\u001b[0m\u001b[0m\n\u001b[1;32m      6\u001b[0m \u001b[0mvectorized_input\u001b[0m\u001b[0;34m[\u001b[0m\u001b[0;36m0\u001b[0m\u001b[0;34m]\u001b[0m\u001b[0;34m.\u001b[0m\u001b[0mshape\u001b[0m\u001b[0;34m\u001b[0m\u001b[0m\n",
      "\u001b[0;31mNameError\u001b[0m: name 'tokenized_input' is not defined"
     ]
    }
   ],
   "source": [
    "# get vectors for input text\n",
    "#filename = 'GoogleNews-vectors-negative300.bin'\n",
    "emb_model = KeyedVectors.load_word2vec_format(filename, binary=True)\n",
    "vectorized_input = emb_model[tokenized_input]\n",
    "\n",
    "vectorized_input[0].shape\n",
    "#vectorized_input"
   ]
  },
  {
   "cell_type": "code",
   "execution_count": 199,
   "metadata": {},
   "outputs": [
    {
     "data": {
      "text/plain": [
       "(300,)"
      ]
     },
     "execution_count": 199,
     "metadata": {},
     "output_type": "execute_result"
    }
   ],
   "source": [
    "# vectorized input size needs to be 1, 300\n",
    "meeting_data['vector_average'][0].shape"
   ]
  },
  {
   "cell_type": "code",
   "execution_count": 213,
   "metadata": {},
   "outputs": [
    {
     "data": {
      "text/html": [
       "<div>\n",
       "<style scoped>\n",
       "    .dataframe tbody tr th:only-of-type {\n",
       "        vertical-align: middle;\n",
       "    }\n",
       "\n",
       "    .dataframe tbody tr th {\n",
       "        vertical-align: top;\n",
       "    }\n",
       "\n",
       "    .dataframe thead th {\n",
       "        text-align: right;\n",
       "    }\n",
       "</style>\n",
       "<table border=\"1\" class=\"dataframe\">\n",
       "  <thead>\n",
       "    <tr style=\"text-align: right;\">\n",
       "      <th></th>\n",
       "      <th>date</th>\n",
       "      <th>text</th>\n",
       "      <th>vector_average</th>\n",
       "    </tr>\n",
       "  </thead>\n",
       "  <tbody>\n",
       "    <tr>\n",
       "      <th>0</th>\n",
       "      <td>2015-03-26</td>\n",
       "      <td>Mayor pro tem I had a que stion for Mr Mckinn...</td>\n",
       "      <td>[0.03370697, 0.021581726, 0.024202384, 0.09209...</td>\n",
       "    </tr>\n",
       "    <tr>\n",
       "      <th>1</th>\n",
       "      <td>2015-03-26</td>\n",
       "      <td>There are 20 that are signed up for the next ...</td>\n",
       "      <td>[0.02433229, 0.03419032, 0.00010202286, 0.1011...</td>\n",
       "    </tr>\n",
       "    <tr>\n",
       "      <th>2</th>\n",
       "      <td>2015-03-26</td>\n",
       "      <td>Okay The other thing is Im going to do everyt...</td>\n",
       "      <td>[0.041835412, 0.021017635, 0.021236643, 0.1323...</td>\n",
       "    </tr>\n",
       "    <tr>\n",
       "      <th>3</th>\n",
       "      <td>2015-03-26</td>\n",
       "      <td>Thanks Hello My name is Jacquie benastante an...</td>\n",
       "      <td>[0.012454927, 0.028385554, 0.027422577, 0.0879...</td>\n",
       "    </tr>\n",
       "    <tr>\n",
       "      <th>4</th>\n",
       "      <td>2015-03-26</td>\n",
       "      <td>Good afternoon Three of us are here today and...</td>\n",
       "      <td>[-0.018927153, 0.027210213, 0.046535354, 0.069...</td>\n",
       "    </tr>\n",
       "  </tbody>\n",
       "</table>\n",
       "</div>"
      ],
      "text/plain": [
       "         date                                               text  \\\n",
       "0  2015-03-26   Mayor pro tem I had a que stion for Mr Mckinn...   \n",
       "1  2015-03-26   There are 20 that are signed up for the next ...   \n",
       "2  2015-03-26   Okay The other thing is Im going to do everyt...   \n",
       "3  2015-03-26   Thanks Hello My name is Jacquie benastante an...   \n",
       "4  2015-03-26   Good afternoon Three of us are here today and...   \n",
       "\n",
       "                                      vector_average  \n",
       "0  [0.03370697, 0.021581726, 0.024202384, 0.09209...  \n",
       "1  [0.02433229, 0.03419032, 0.00010202286, 0.1011...  \n",
       "2  [0.041835412, 0.021017635, 0.021236643, 0.1323...  \n",
       "3  [0.012454927, 0.028385554, 0.027422577, 0.0879...  \n",
       "4  [-0.018927153, 0.027210213, 0.046535354, 0.069...  "
      ]
     },
     "execution_count": 213,
     "metadata": {},
     "output_type": "execute_result"
    }
   ],
   "source": [
    "meeting_data.head()"
   ]
  },
  {
   "cell_type": "code",
   "execution_count": 214,
   "metadata": {},
   "outputs": [],
   "source": [
    "# test function\n",
    "def get_cosine(array1,array2):\n",
    "  array1 = array1.reshape(1,-1)\n",
    "  array2 = array2.reshape(1,-1)\n",
    "  return cosine_similarity(array1,array2)"
   ]
  },
  {
   "cell_type": "code",
   "execution_count": null,
   "metadata": {},
   "outputs": [],
   "source": [
    "# write in my placeholders\n",
    "def get_cosine(array1,array2):\n",
    "  array1 = array1.reshape(1,-1)\n",
    "  array2 = array2.reshape(1,-1)\n",
    "  return cosine_similarity(array1,array2)"
   ]
  },
  {
   "cell_type": "code",
   "execution_count": null,
   "metadata": {},
   "outputs": [],
   "source": []
  },
  {
   "cell_type": "code",
   "execution_count": 165,
   "metadata": {},
   "outputs": [],
   "source": [
    "# calculate cosine similarity\n",
    "cos_sim_input_data = []\n",
    "for i in meeting_data['corrected_vectors']:\n",
    "    cos_sim = cosine_similarity(i, vectorized_input.transpose())\n",
    "    cos_sim_input_data.append(cos_sim)\n",
    "    #print(vectorized_input.transpose().shape)\n"
   ]
  },
  {
   "cell_type": "code",
   "execution_count": 225,
   "metadata": {},
   "outputs": [
    {
     "data": {
      "text/plain": [
       "0.26909935"
      ]
     },
     "execution_count": 225,
     "metadata": {},
     "output_type": "execute_result"
    }
   ],
   "source": [
    "cosine_sim[0,0] = get_cosine(meeting_data['vector_average'][0], vectorized_input[0])\n",
    "cosine_sim"
   ]
  },
  {
   "cell_type": "code",
   "execution_count": 226,
   "metadata": {},
   "outputs": [
    {
     "data": {
      "text/plain": [
       "0.26909935"
      ]
     },
     "execution_count": 226,
     "metadata": {},
     "output_type": "execute_result"
    }
   ],
   "source": [
    "cosine_sim = get_cosine(meeting_data['vector_average'][0], vectorized_input[0])[0, 0]\n",
    "cosine_sim"
   ]
  },
  {
   "cell_type": "code",
   "execution_count": 96,
   "metadata": {},
   "outputs": [],
   "source": [
    "## Failed reshape attempts - keeping for reference\n",
    "#numpy.reshape(meeting_data['vector_average'][0], 1, 300)\n",
    "#meeting_data['vector_average'][0].newaxis()\n",
    "#array.reshape(-1, 1)\n",
    "#vectorized_input[0].reshape(-1, 1)\n",
    "#meeting_data[\"corrected_vectors\"][0].reshape(-1, 1)\n",
    "\n",
    "#test.transpose().shape\n",
    "#meeting_data['vector_average'][0].shape"
   ]
  },
  {
   "cell_type": "code",
   "execution_count": 145,
   "metadata": {},
   "outputs": [
    {
     "data": {
      "text/plain": [
       "array([[-1., -1., -1., ...,  1., -1.,  1.],\n",
       "       [-1., -1., -1., ...,  1., -1.,  1.],\n",
       "       [-1., -1., -1., ...,  1., -1.,  1.],\n",
       "       ...,\n",
       "       [ 1.,  1.,  1., ..., -1.,  1., -1.],\n",
       "       [-1., -1., -1., ...,  1., -1.,  1.],\n",
       "       [-1., -1., -1., ...,  1., -1.,  1.]], dtype=float32)"
      ]
     },
     "execution_count": 145,
     "metadata": {},
     "output_type": "execute_result"
    }
   ],
   "source": [
    "#cosine_similarity(vectorized_input[0].reshape(-1, 1), meeting_data[\"corrected_vectors\"][0].reshape(-1, 1))\n",
    "cosine_similarity(vectorized_input.reshape(-1, 1), meeting_data[\"corrected_vectors\"][0].reshape(-1, 1))"
   ]
  },
  {
   "cell_type": "code",
   "execution_count": 168,
   "metadata": {},
   "outputs": [],
   "source": [
    "meeting_data[\"cos_sim\"] = cos_sim_input_data"
   ]
  },
  {
   "cell_type": "code",
   "execution_count": 200,
   "metadata": {},
   "outputs": [],
   "source": [
    "vectors_1d = []\n",
    "for nd_vec in meeting_data.vector_average:\n",
    "    vectors_1d.append(nd_vec[:,np.newaxis])\n",
    "    \n",
    "meeting_data[\"corrected_vectors\"] = vectors_1d"
   ]
  },
  {
   "cell_type": "code",
   "execution_count": 4,
   "metadata": {},
   "outputs": [],
   "source": [
    "#filename = 'GoogleNews-vectors-negative300.bin'\n",
    "#emb_model = KeyedVectors.load_word2vec_format(filename, binary=True)\n",
    "\n",
    "def activistsdigest():\n",
    "    # accept user input\n",
    "    text = input(\"Write a topic of interest here: \")\n",
    "\n",
    "    # clean and tokenize user input\n",
    "    tokenized_input = nltk.word_tokenize(text)\n",
    "    \n",
    "    # get vectors for input text\n",
    "    #filename = 'GoogleNews-vectors-negative300.bin'\n",
    "    #emb_model = KeyedVectors.load_word2vec_format(filename, binary=True)\n",
    "    vectorized_input = emb_model[tokenized_input]\n",
    "\n",
    "    #def get_cosine(array1,array2):\n",
    "    #  array1 = array1.reshape(1,-1)\n",
    "    #  array2 = array2.reshape(1,-1)\n",
    "    #  return cosine_similarity(array1,array2)\n",
    "    \n",
    "    cosine_list = []\n",
    "    for vector in meeting_data['vector_average']:\n",
    "        vector.reshape(1, -1)\n",
    "        cosine_sim = cosine_similarity(vector.reshape(1, -1), vectorized_input[0].reshape(1, -1))[0, 0]\n",
    "        #cosine_sim = get_cosine(meeting_data['vector_average'][0], vectorized_input[0])[0, 0]\n",
    "        \n",
    "        cosine_list.append(cosine_sim)\n",
    "    \n",
    "    # add input_veclist to df\n",
    "    meeting_data['cosine_similarity'] = cosine_list\n",
    "\n",
    "    # sort dataframe in ascending order by distance\n",
    "    meeting_data1 = meeting_data.sort_values(by=['cosine_similarity'], ascending = False)\n",
    "\n",
    "    # return df for top 10 rows\n",
    "    return print(meeting_data1.head(10))"
   ]
  },
  {
   "cell_type": "code",
   "execution_count": 5,
   "metadata": {},
   "outputs": [
    {
     "name": "stdin",
     "output_type": "stream",
     "text": [
      "Write a topic of interest here:  veteran care\n"
     ]
    },
    {
     "name": "stdout",
     "output_type": "stream",
     "text": [
      "            date                                               text  \\\n",
      "1282  2015-09-17   Its a great network of veterans seasoned vete...   \n",
      "6625  2017-11-09   Mr Mayor you made an error when you said were...   \n",
      "9914  2019-08-22   Mayor adlerlast but not least Charles Bryant ...   \n",
      "488   2015-05-21   I met Betty in the 80s as well waltzed into t...   \n",
      "7640  2018-06-28   You have a chartered flag there You ready to ...   \n",
      "3915  2016-11-10   Good afternoon Gus peña proud native e ast Au...   \n",
      "8057  2018-08-30   I ask you as an advocate of victims of violen...   \n",
      "8154  2018-11-29   Thank you mayor and council members of the pu...   \n",
      "8478  2019-03-07   Good af ternoon city council members thank yo...   \n",
      "8645  2019-04-11   Thank you The next speaker is Trevor baton an...   \n",
      "\n",
      "                                         vector_average  cosine_similarity  \n",
      "1282  [0.016679244, 0.11719236, 0.013261622, 0.09553...           0.463230  \n",
      "6625  [0.036784925, 0.039827045, 0.034639057, 0.0441...           0.348705  \n",
      "9914  [0.05805097, 0.014700754, 0.013933455, -0.0094...           0.318461  \n",
      "488   [0.049243502, 0.064193726, 0.0092230905, 0.000...           0.300650  \n",
      "7640  [0.023692595, 0.05252675, 0.010745611, 0.08204...           0.276236  \n",
      "3915  [0.012366536, 0.055657625, 0.029438859, 0.1084...           0.259998  \n",
      "8057  [0.06246076, 0.061535425, 0.005747114, 0.07833...           0.259311  \n",
      "8154  [0.009429184, 0.05074483, 0.03795796, 0.044862...           0.257811  \n",
      "8478  [0.039741598, 0.030582864, 0.0307021, 0.083470...           0.257444  \n",
      "8645  [0.016169956, 0.024524376, 0.068805516, 0.0454...           0.253785  \n"
     ]
    }
   ],
   "source": [
    "activistsdigest()"
   ]
  }
 ],
 "metadata": {
  "kernelspec": {
   "display_name": "Python 3",
   "language": "python",
   "name": "python3"
  },
  "language_info": {
   "codemirror_mode": {
    "name": "ipython",
    "version": 3
   },
   "file_extension": ".py",
   "mimetype": "text/x-python",
   "name": "python",
   "nbconvert_exporter": "python",
   "pygments_lexer": "ipython3",
   "version": "3.7.0"
  }
 },
 "nbformat": 4,
 "nbformat_minor": 4
}
