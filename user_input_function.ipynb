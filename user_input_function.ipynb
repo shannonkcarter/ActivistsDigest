{
 "cells": [
  {
   "cell_type": "code",
   "execution_count": 1,
   "metadata": {},
   "outputs": [],
   "source": [
    "from nltk.tokenize import word_tokenize\n",
    "from nltk.corpus import stopwords\n",
    "import nltk.data\n",
    "import nltk\n",
    "import glob\n",
    "import os\n",
    "import re\n",
    "import string\n",
    "import pandas as pd\n",
    "import gensim\n",
    "from gensim.models import KeyedVectors\n",
    "from gensim.models import Word2Vec\n",
    "import numpy as np\n",
    "from sklearn import preprocessing\n",
    "from numpy import dot\n",
    "from numpy.linalg import norm\n",
    "from pyemd import emd\n",
    "from sklearn.metrics.pairwise import cosine_similarity"
   ]
  },
  {
   "cell_type": "code",
   "execution_count": 132,
   "metadata": {},
   "outputs": [],
   "source": [
    "meeting_data = pd.read_pickle(\"pickleddf.pkl\")"
   ]
  },
  {
   "cell_type": "code",
   "execution_count": 56,
   "metadata": {},
   "outputs": [
    {
     "data": {
      "text/html": [
       "<div>\n",
       "<style scoped>\n",
       "    .dataframe tbody tr th:only-of-type {\n",
       "        vertical-align: middle;\n",
       "    }\n",
       "\n",
       "    .dataframe tbody tr th {\n",
       "        vertical-align: top;\n",
       "    }\n",
       "\n",
       "    .dataframe thead th {\n",
       "        text-align: right;\n",
       "    }\n",
       "</style>\n",
       "<table border=\"1\" class=\"dataframe\">\n",
       "  <thead>\n",
       "    <tr style=\"text-align: right;\">\n",
       "      <th></th>\n",
       "      <th>date</th>\n",
       "      <th>text</th>\n",
       "      <th>vector_average</th>\n",
       "    </tr>\n",
       "  </thead>\n",
       "  <tbody>\n",
       "    <tr>\n",
       "      <th>0</th>\n",
       "      <td>2015-03-26</td>\n",
       "      <td>Mayor pro tem I had a que stion for Mr Mckinn...</td>\n",
       "      <td>[0.03370697, 0.021581726, 0.024202384, 0.09209...</td>\n",
       "    </tr>\n",
       "    <tr>\n",
       "      <th>1</th>\n",
       "      <td>2015-03-26</td>\n",
       "      <td>There are 20 that are signed up for the next ...</td>\n",
       "      <td>[0.02433229, 0.03419032, 0.00010202286, 0.1011...</td>\n",
       "    </tr>\n",
       "    <tr>\n",
       "      <th>2</th>\n",
       "      <td>2015-03-26</td>\n",
       "      <td>Okay The other thing is Im going to do everyt...</td>\n",
       "      <td>[0.041835412, 0.021017635, 0.021236643, 0.1323...</td>\n",
       "    </tr>\n",
       "    <tr>\n",
       "      <th>3</th>\n",
       "      <td>2015-03-26</td>\n",
       "      <td>Thanks Hello My name is Jacquie benastante an...</td>\n",
       "      <td>[0.012454927, 0.028385554, 0.027422577, 0.0879...</td>\n",
       "    </tr>\n",
       "    <tr>\n",
       "      <th>4</th>\n",
       "      <td>2015-03-26</td>\n",
       "      <td>Good afternoon Three of us are here today and...</td>\n",
       "      <td>[-0.018927153, 0.027210213, 0.046535354, 0.069...</td>\n",
       "    </tr>\n",
       "  </tbody>\n",
       "</table>\n",
       "</div>"
      ],
      "text/plain": [
       "         date                                               text  \\\n",
       "0  2015-03-26   Mayor pro tem I had a que stion for Mr Mckinn...   \n",
       "1  2015-03-26   There are 20 that are signed up for the next ...   \n",
       "2  2015-03-26   Okay The other thing is Im going to do everyt...   \n",
       "3  2015-03-26   Thanks Hello My name is Jacquie benastante an...   \n",
       "4  2015-03-26   Good afternoon Three of us are here today and...   \n",
       "\n",
       "                                      vector_average  \n",
       "0  [0.03370697, 0.021581726, 0.024202384, 0.09209...  \n",
       "1  [0.02433229, 0.03419032, 0.00010202286, 0.1011...  \n",
       "2  [0.041835412, 0.021017635, 0.021236643, 0.1323...  \n",
       "3  [0.012454927, 0.028385554, 0.027422577, 0.0879...  \n",
       "4  [-0.018927153, 0.027210213, 0.046535354, 0.069...  "
      ]
     },
     "execution_count": 56,
     "metadata": {},
     "output_type": "execute_result"
    }
   ],
   "source": [
    "meeting_data.head()"
   ]
  },
  {
   "cell_type": "code",
   "execution_count": 115,
   "metadata": {},
   "outputs": [
    {
     "data": {
      "text/plain": [
       "(300,)"
      ]
     },
     "execution_count": 115,
     "metadata": {},
     "output_type": "execute_result"
    }
   ],
   "source": [
    "meeting_data[\"vector_average\"][0].shape"
   ]
  },
  {
   "cell_type": "code",
   "execution_count": 100,
   "metadata": {},
   "outputs": [
    {
     "data": {
      "text/plain": [
       "['bike']"
      ]
     },
     "execution_count": 100,
     "metadata": {},
     "output_type": "execute_result"
    }
   ],
   "source": [
    "# mock user input\n",
    "text = \"bike\"\n",
    "\n",
    "# clean and tokenize user input\n",
    "tokenized_input = nltk.word_tokenize(text)\n",
    "\n",
    "tokenized_input"
   ]
  },
  {
   "cell_type": "code",
   "execution_count": 114,
   "metadata": {},
   "outputs": [
    {
     "data": {
      "text/plain": [
       "(300,)"
      ]
     },
     "execution_count": 114,
     "metadata": {},
     "output_type": "execute_result"
    }
   ],
   "source": [
    "# get vectors for input text\n",
    "#filename = 'GoogleNews-vectors-negative300.bin'\n",
    "#emb_model = KeyedVectors.load_word2vec_format(filename, binary=True)\n",
    "vectorized_input = emb_model[tokenized_input]\n",
    "\n",
    "vectorized_input[0].shape"
   ]
  },
  {
   "cell_type": "code",
   "execution_count": 104,
   "metadata": {},
   "outputs": [],
   "source": [
    "# vectorized input size needs to be 1, 300\n",
    "test = meeting_data['vector_average'][0]"
   ]
  },
  {
   "cell_type": "code",
   "execution_count": 134,
   "metadata": {},
   "outputs": [],
   "source": [
    "vectors_1d = []\n",
    "for nd_vec in meeting_data.vector_average:\n",
    "    vectors_1d.append(nd_vec[:,np.newaxis])\n",
    "    \n",
    "meeting_data[\"corrected_vectors\"] = vectors_1d"
   ]
  },
  {
   "cell_type": "code",
   "execution_count": 107,
   "metadata": {},
   "outputs": [
    {
     "data": {
      "text/html": [
       "<div>\n",
       "<style scoped>\n",
       "    .dataframe tbody tr th:only-of-type {\n",
       "        vertical-align: middle;\n",
       "    }\n",
       "\n",
       "    .dataframe tbody tr th {\n",
       "        vertical-align: top;\n",
       "    }\n",
       "\n",
       "    .dataframe thead th {\n",
       "        text-align: right;\n",
       "    }\n",
       "</style>\n",
       "<table border=\"1\" class=\"dataframe\">\n",
       "  <thead>\n",
       "    <tr style=\"text-align: right;\">\n",
       "      <th></th>\n",
       "      <th>date</th>\n",
       "      <th>text</th>\n",
       "      <th>vector_average</th>\n",
       "      <th>corrected_vectors</th>\n",
       "    </tr>\n",
       "  </thead>\n",
       "  <tbody>\n",
       "    <tr>\n",
       "      <th>0</th>\n",
       "      <td>2015-03-26</td>\n",
       "      <td>Mayor pro tem I had a que stion for Mr Mckinn...</td>\n",
       "      <td>[0.03370697, 0.021581726, 0.024202384, 0.09209...</td>\n",
       "      <td>[[0.03370697], [0.021581726], [0.024202384], [...</td>\n",
       "    </tr>\n",
       "    <tr>\n",
       "      <th>1</th>\n",
       "      <td>2015-03-26</td>\n",
       "      <td>There are 20 that are signed up for the next ...</td>\n",
       "      <td>[0.02433229, 0.03419032, 0.00010202286, 0.1011...</td>\n",
       "      <td>[[0.02433229], [0.03419032], [0.00010202286], ...</td>\n",
       "    </tr>\n",
       "    <tr>\n",
       "      <th>2</th>\n",
       "      <td>2015-03-26</td>\n",
       "      <td>Okay The other thing is Im going to do everyt...</td>\n",
       "      <td>[0.041835412, 0.021017635, 0.021236643, 0.1323...</td>\n",
       "      <td>[[0.041835412], [0.021017635], [0.021236643], ...</td>\n",
       "    </tr>\n",
       "    <tr>\n",
       "      <th>3</th>\n",
       "      <td>2015-03-26</td>\n",
       "      <td>Thanks Hello My name is Jacquie benastante an...</td>\n",
       "      <td>[0.012454927, 0.028385554, 0.027422577, 0.0879...</td>\n",
       "      <td>[[0.012454927], [0.028385554], [0.027422577], ...</td>\n",
       "    </tr>\n",
       "    <tr>\n",
       "      <th>4</th>\n",
       "      <td>2015-03-26</td>\n",
       "      <td>Good afternoon Three of us are here today and...</td>\n",
       "      <td>[-0.018927153, 0.027210213, 0.046535354, 0.069...</td>\n",
       "      <td>[[-0.018927153], [0.027210213], [0.046535354],...</td>\n",
       "    </tr>\n",
       "  </tbody>\n",
       "</table>\n",
       "</div>"
      ],
      "text/plain": [
       "         date                                               text  \\\n",
       "0  2015-03-26   Mayor pro tem I had a que stion for Mr Mckinn...   \n",
       "1  2015-03-26   There are 20 that are signed up for the next ...   \n",
       "2  2015-03-26   Okay The other thing is Im going to do everyt...   \n",
       "3  2015-03-26   Thanks Hello My name is Jacquie benastante an...   \n",
       "4  2015-03-26   Good afternoon Three of us are here today and...   \n",
       "\n",
       "                                      vector_average  \\\n",
       "0  [0.03370697, 0.021581726, 0.024202384, 0.09209...   \n",
       "1  [0.02433229, 0.03419032, 0.00010202286, 0.1011...   \n",
       "2  [0.041835412, 0.021017635, 0.021236643, 0.1323...   \n",
       "3  [0.012454927, 0.028385554, 0.027422577, 0.0879...   \n",
       "4  [-0.018927153, 0.027210213, 0.046535354, 0.069...   \n",
       "\n",
       "                                   corrected_vectors  \n",
       "0  [[0.03370697], [0.021581726], [0.024202384], [...  \n",
       "1  [[0.02433229], [0.03419032], [0.00010202286], ...  \n",
       "2  [[0.041835412], [0.021017635], [0.021236643], ...  \n",
       "3  [[0.012454927], [0.028385554], [0.027422577], ...  \n",
       "4  [[-0.018927153], [0.027210213], [0.046535354],...  "
      ]
     },
     "execution_count": 107,
     "metadata": {},
     "output_type": "execute_result"
    }
   ],
   "source": [
    "meeting_data.head()"
   ]
  },
  {
   "cell_type": "code",
   "execution_count": 96,
   "metadata": {},
   "outputs": [],
   "source": [
    "## Failed reshape attempts - keeping for reference\n",
    "#numpy.reshape(meeting_data['vector_average'][0], 1, 300)\n",
    "#meeting_data['vector_average'][0].newaxis()\n",
    "#array.reshape(-1, 1)\n",
    "#vectorized_input[0].reshape(-1, 1)\n",
    "#meeting_data[\"corrected_vectors\"][0].reshape(-1, 1)\n",
    "\n",
    "#test.transpose().shape\n",
    "#meeting_data['vector_average'][0].shape"
   ]
  },
  {
   "cell_type": "code",
   "execution_count": 146,
   "metadata": {},
   "outputs": [
    {
     "data": {
      "text/html": [
       "<div>\n",
       "<style scoped>\n",
       "    .dataframe tbody tr th:only-of-type {\n",
       "        vertical-align: middle;\n",
       "    }\n",
       "\n",
       "    .dataframe tbody tr th {\n",
       "        vertical-align: top;\n",
       "    }\n",
       "\n",
       "    .dataframe thead th {\n",
       "        text-align: right;\n",
       "    }\n",
       "</style>\n",
       "<table border=\"1\" class=\"dataframe\">\n",
       "  <thead>\n",
       "    <tr style=\"text-align: right;\">\n",
       "      <th></th>\n",
       "      <th>date</th>\n",
       "      <th>text</th>\n",
       "      <th>vector_average</th>\n",
       "      <th>corrected_vectors</th>\n",
       "    </tr>\n",
       "  </thead>\n",
       "  <tbody>\n",
       "    <tr>\n",
       "      <th>0</th>\n",
       "      <td>2015-03-26</td>\n",
       "      <td>Mayor pro tem I had a que stion for Mr Mckinn...</td>\n",
       "      <td>[0.03370697, 0.021581726, 0.024202384, 0.09209...</td>\n",
       "      <td>[[0.03370697], [0.021581726], [0.024202384], [...</td>\n",
       "    </tr>\n",
       "    <tr>\n",
       "      <th>1</th>\n",
       "      <td>2015-03-26</td>\n",
       "      <td>There are 20 that are signed up for the next ...</td>\n",
       "      <td>[0.02433229, 0.03419032, 0.00010202286, 0.1011...</td>\n",
       "      <td>[[0.02433229], [0.03419032], [0.00010202286], ...</td>\n",
       "    </tr>\n",
       "    <tr>\n",
       "      <th>2</th>\n",
       "      <td>2015-03-26</td>\n",
       "      <td>Okay The other thing is Im going to do everyt...</td>\n",
       "      <td>[0.041835412, 0.021017635, 0.021236643, 0.1323...</td>\n",
       "      <td>[[0.041835412], [0.021017635], [0.021236643], ...</td>\n",
       "    </tr>\n",
       "    <tr>\n",
       "      <th>3</th>\n",
       "      <td>2015-03-26</td>\n",
       "      <td>Thanks Hello My name is Jacquie benastante an...</td>\n",
       "      <td>[0.012454927, 0.028385554, 0.027422577, 0.0879...</td>\n",
       "      <td>[[0.012454927], [0.028385554], [0.027422577], ...</td>\n",
       "    </tr>\n",
       "    <tr>\n",
       "      <th>4</th>\n",
       "      <td>2015-03-26</td>\n",
       "      <td>Good afternoon Three of us are here today and...</td>\n",
       "      <td>[-0.018927153, 0.027210213, 0.046535354, 0.069...</td>\n",
       "      <td>[[-0.018927153], [0.027210213], [0.046535354],...</td>\n",
       "    </tr>\n",
       "  </tbody>\n",
       "</table>\n",
       "</div>"
      ],
      "text/plain": [
       "         date                                               text  \\\n",
       "0  2015-03-26   Mayor pro tem I had a que stion for Mr Mckinn...   \n",
       "1  2015-03-26   There are 20 that are signed up for the next ...   \n",
       "2  2015-03-26   Okay The other thing is Im going to do everyt...   \n",
       "3  2015-03-26   Thanks Hello My name is Jacquie benastante an...   \n",
       "4  2015-03-26   Good afternoon Three of us are here today and...   \n",
       "\n",
       "                                      vector_average  \\\n",
       "0  [0.03370697, 0.021581726, 0.024202384, 0.09209...   \n",
       "1  [0.02433229, 0.03419032, 0.00010202286, 0.1011...   \n",
       "2  [0.041835412, 0.021017635, 0.021236643, 0.1323...   \n",
       "3  [0.012454927, 0.028385554, 0.027422577, 0.0879...   \n",
       "4  [-0.018927153, 0.027210213, 0.046535354, 0.069...   \n",
       "\n",
       "                                   corrected_vectors  \n",
       "0  [[0.03370697], [0.021581726], [0.024202384], [...  \n",
       "1  [[0.02433229], [0.03419032], [0.00010202286], ...  \n",
       "2  [[0.041835412], [0.021017635], [0.021236643], ...  \n",
       "3  [[0.012454927], [0.028385554], [0.027422577], ...  \n",
       "4  [[-0.018927153], [0.027210213], [0.046535354],...  "
      ]
     },
     "execution_count": 146,
     "metadata": {},
     "output_type": "execute_result"
    }
   ],
   "source": [
    "meeting_data.head()"
   ]
  },
  {
   "cell_type": "code",
   "execution_count": 145,
   "metadata": {},
   "outputs": [
    {
     "data": {
      "text/plain": [
       "array([[-1., -1., -1., ...,  1., -1.,  1.],\n",
       "       [-1., -1., -1., ...,  1., -1.,  1.],\n",
       "       [-1., -1., -1., ...,  1., -1.,  1.],\n",
       "       ...,\n",
       "       [ 1.,  1.,  1., ..., -1.,  1., -1.],\n",
       "       [-1., -1., -1., ...,  1., -1.,  1.],\n",
       "       [-1., -1., -1., ...,  1., -1.,  1.]], dtype=float32)"
      ]
     },
     "execution_count": 145,
     "metadata": {},
     "output_type": "execute_result"
    }
   ],
   "source": [
    "#cosine_similarity(vectorized_input[0].reshape(-1, 1), meeting_data[\"corrected_vectors\"][0].reshape(-1, 1))\n",
    "cosine_similarity(vectorized_input.reshape(-1, 1), meeting_data[\"corrected_vectors\"][0].reshape(-1, 1))"
   ]
  },
  {
   "cell_type": "code",
   "execution_count": 144,
   "metadata": {},
   "outputs": [
    {
     "ename": "AttributeError",
     "evalue": "'list' object has no attribute 'reshape'",
     "output_type": "error",
     "traceback": [
      "\u001b[0;31m---------------------------------------------------------------------------\u001b[0m",
      "\u001b[0;31mAttributeError\u001b[0m                            Traceback (most recent call last)",
      "\u001b[0;32m<ipython-input-144-7222cae419fa>\u001b[0m in \u001b[0;36m<module>\u001b[0;34m\u001b[0m\n\u001b[1;32m      2\u001b[0m \u001b[0mcos_sim_input_data\u001b[0m \u001b[0;34m=\u001b[0m \u001b[0;34m[\u001b[0m\u001b[0;34m]\u001b[0m\u001b[0;34m\u001b[0m\u001b[0m\n\u001b[1;32m      3\u001b[0m \u001b[0;32mfor\u001b[0m \u001b[0mi\u001b[0m \u001b[0;32min\u001b[0m \u001b[0mmeeting_data\u001b[0m\u001b[0;34m[\u001b[0m\u001b[0;34m'corrected_vectors'\u001b[0m\u001b[0;34m]\u001b[0m\u001b[0;34m:\u001b[0m\u001b[0;34m\u001b[0m\u001b[0m\n\u001b[0;32m----> 4\u001b[0;31m     \u001b[0mcos_sim\u001b[0m \u001b[0;34m=\u001b[0m \u001b[0mcosine_similarity\u001b[0m\u001b[0;34m(\u001b[0m\u001b[0;34m[\u001b[0m\u001b[0mi\u001b[0m\u001b[0;34m]\u001b[0m\u001b[0;34m.\u001b[0m\u001b[0mreshape\u001b[0m\u001b[0;34m(\u001b[0m\u001b[0;34m-\u001b[0m\u001b[0;36m1\u001b[0m\u001b[0;34m,\u001b[0m \u001b[0;36m1\u001b[0m\u001b[0;34m)\u001b[0m\u001b[0;34m,\u001b[0m \u001b[0;34m[\u001b[0m\u001b[0mvectorized_input\u001b[0m\u001b[0;34m[\u001b[0m\u001b[0;36m0\u001b[0m\u001b[0;34m]\u001b[0m\u001b[0;34m]\u001b[0m\u001b[0;34m.\u001b[0m\u001b[0mreshape\u001b[0m\u001b[0;34m(\u001b[0m\u001b[0;34m-\u001b[0m\u001b[0;36m1\u001b[0m\u001b[0;34m,\u001b[0m \u001b[0;36m1\u001b[0m\u001b[0;34m)\u001b[0m\u001b[0;34m)\u001b[0m\u001b[0;34m\u001b[0m\u001b[0m\n\u001b[0m\u001b[1;32m      5\u001b[0m     \u001b[0mcos_sim_input_data\u001b[0m\u001b[0;34m.\u001b[0m\u001b[0mappend\u001b[0m\u001b[0;34m(\u001b[0m\u001b[0mcos_sim\u001b[0m\u001b[0;34m)\u001b[0m\u001b[0;34m\u001b[0m\u001b[0m\n",
      "\u001b[0;31mAttributeError\u001b[0m: 'list' object has no attribute 'reshape'"
     ]
    }
   ],
   "source": [
    "# calculate cosine similarity\n",
    "cos_sim_input_data = []\n",
    "for i in meeting_data['corrected_vectors']:\n",
    "    cos_sim = cosine_similarity([i].reshape(-1, 1), [vectorized_input[0]].reshape(-1, 1))\n",
    "    cos_sim_input_data.append(cos_sim)"
   ]
  },
  {
   "cell_type": "code",
   "execution_count": null,
   "metadata": {},
   "outputs": [],
   "source": [
    "# add input_veclist to df\n",
    "meeting_data['inputvectors'] = input_veclist\n",
    "\n"
   ]
  },
  {
   "cell_type": "code",
   "execution_count": null,
   "metadata": {},
   "outputs": [],
   "source": [
    "# sort dataframe in ascending order by distance\n",
    "meeting_data.sort_values(by=['distance'])\n",
    "\n",
    "# return url for top 3 rows\n",
    "return print(meeting_data['text'].head(3))"
   ]
  },
  {
   "cell_type": "code",
   "execution_count": 8,
   "metadata": {},
   "outputs": [],
   "source": [
    "def activistsdigest():\n",
    "    # accept user input\n",
    "    text = input(\"Write a topic of interest here: \")\n",
    "\n",
    "    # clean and tokenize user input\n",
    "    tokenized_input = nltk.word_tokenize(text)\n",
    "    \n",
    "    # get vectors for input text\n",
    "    filename = 'GoogleNews-vectors-negative300.bin'\n",
    "    emb_model = KeyedVectors.load_word2vec_format(filename, binary=True)\n",
    "    vectorized_input = emb_model[tokenized_input]\n",
    "\n",
    "    # calculate WMD distance\n",
    "    input_veclist = []\n",
    "    for i in meeting_data['vector_average']:\n",
    "        distance = emb_model.wmdistance(i, vectorized_input)\n",
    "        input_veclist.append(distance)\n",
    "\n",
    "    # add input_veclist to df\n",
    "    meeting_data['inputvectors'] = input_veclist\n",
    "\n",
    "    # sort dataframe in ascending order by distance\n",
    "    meeting_data.sort_values(by=['distance'])\n",
    "\n",
    "    # return url for top 3 rows\n",
    "    return print(meeting_data['text'].head(3))"
   ]
  }
 ],
 "metadata": {
  "kernelspec": {
   "display_name": "Python 3",
   "language": "python",
   "name": "python3"
  },
  "language_info": {
   "codemirror_mode": {
    "name": "ipython",
    "version": 3
   },
   "file_extension": ".py",
   "mimetype": "text/x-python",
   "name": "python",
   "nbconvert_exporter": "python",
   "pygments_lexer": "ipython3",
   "version": "3.7.0"
  }
 },
 "nbformat": 4,
 "nbformat_minor": 4
}
